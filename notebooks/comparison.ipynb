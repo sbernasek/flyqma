{
 "cells": [
  {
   "cell_type": "code",
   "execution_count": 1,
   "metadata": {},
   "outputs": [],
   "source": [
    "import sys, os\n",
    "from glob import glob\n",
    "p = '../'\n",
    "if p not in sys.path:\n",
    "    sys.path.insert(0, p)"
   ]
  },
  {
   "cell_type": "code",
   "execution_count": 54,
   "metadata": {},
   "outputs": [],
   "source": [
    "from clones.data.experiments import Experiment\n",
    "from clones.analysis.statistics import SummaryStatistics, CloneComparison\n",
    "\n",
    "%reload_ext autoreload\n",
    "%autoreload 2\n",
    "%matplotlib inline"
   ]
  },
  {
   "cell_type": "markdown",
   "metadata": {},
   "source": [
    "# Load measurement data"
   ]
  },
  {
   "cell_type": "code",
   "execution_count": 3,
   "metadata": {},
   "outputs": [],
   "source": [
    "# define measurement inclusion criteria\n",
    "options = dict(selected_only=True, exclude_boundary=True)\n",
    "\n",
    "# load control\n",
    "control = Experiment('../data/clones/bleedthrough_control')\n",
    "control_data = control.aggregate_measurements(**options)\n",
    "\n",
    "# load perturbation\n",
    "perturbation = Experiment('../data/clones/yanE833')\n",
    "perturbation_data = perturbation.aggregate_measurements(**options)"
   ]
  },
  {
   "cell_type": "markdown",
   "metadata": {},
   "source": [
    "# Compare clones"
   ]
  },
  {
   "cell_type": "code",
   "execution_count": 4,
   "metadata": {},
   "outputs": [
    {
     "name": "stdout",
     "output_type": "stream",
     "text": [
      "Statistical test: MW\n",
      "Control: 0x vs 1x: 0.3345\n",
      "Control: 1x vs 2x: 0.5270\n",
      "Perturbation: 0x vs 1x: 0.0000\n",
      "Perturbation: 1x vs 2x: 0.0000\n"
     ]
    }
   ],
   "source": [
    "# evaluate pvalues for (M vs H) and (H vs W) comparisons under each condition\n",
    "st = SummaryStatistics(control_data, perturbation_data, basis='gc_normalized')"
   ]
  },
  {
   "cell_type": "markdown",
   "metadata": {},
   "source": [
    "# Plot comparison"
   ]
  },
  {
   "cell_type": "code",
   "execution_count": 57,
   "metadata": {},
   "outputs": [
    {
     "data": {
      "image/png": "[encoded data removed]",
      "text/plain": [
       "<Figure size 90x108 with 1 Axes>"
      ]
     },
     "metadata": {},
     "output_type": "display_data"
    }
   ],
   "source": [
    "# plot PntGFP comparison\n",
    "comp = CloneComparison(perturbation_data, 'm', 'h', basis='gc_normalized')\n",
    "comp.plot(ylabel='PntGFP (a.u.)', cut=1)"
   ]
  }
 ],
 "metadata": {
  "kernelspec": {
   "display_name": "clones",
   "language": "python",
   "name": "clones"
  },
  "language_info": {
   "codemirror_mode": {
    "name": "ipython",
    "version": 3
   },
   "file_extension": ".py",
   "mimetype": "text/x-python",
   "name": "python",
   "nbconvert_exporter": "python",
   "pygments_lexer": "ipython3",
   "version": "3.6.4"
  }
 },
 "nbformat": 4,
 "nbformat_minor": 2
}
