{
 "cells": [
  {
   "cell_type": "code",
   "execution_count": 1,
   "metadata": {},
   "outputs": [],
   "source": [
    "import sys, os\n",
    "import gc\n",
    "import glob\n",
    "from time import sleep\n",
    "from time import time\n",
    "if '../' not in sys.path:\n",
    "    sys.path.insert(0, '../')\n",
    "\n",
    "from modules.stacks import Stack\n",
    "    \n",
    "import matplotlib.pyplot as plt\n",
    "import numpy as np\n",
    "\n",
    "%reload_ext autoreload\n",
    "%autoreload 2\n",
    "%matplotlib inline"
   ]
  },
  {
   "cell_type": "code",
   "execution_count": 2,
   "metadata": {},
   "outputs": [],
   "source": [
    "\"\"\" Set parameters \"\"\"\n",
    "\n",
    "preprocessing_kws = dict(median_radius=2,\n",
    "                         gaussian_sigma=(2, 2),\n",
    "                         clip_limit=0.03, clip_factor=20)\n",
    "seed_kws=dict(sigma=2, min_distance=1)\n",
    "seg_kws=dict()\n",
    "segmentation_kw = dict(preprocessing_kws=preprocessing_kws, \n",
    "          seed_kws=seed_kws, seg_kws=seg_kws,\n",
    "          min_segment_area=250)\n",
    "\n",
    "fg_kw = dict(bandwidth=100, n=5)\n",
    "\n",
    "annotation_kw = dict(q=95,\n",
    "                     channel='r_normalized',\n",
    "                     weighted=True,\n",
    "                     fg_only=True,\n",
    "                     upper_bound=90)\n",
    "\n",
    "save_kw = dict(segmentation=True, image=True, foreground=True, annotation=True, dpi=100)\n",
    "kw = dict(segmentation_kw=segmentation_kw, fg_kw=fg_kw, annotation_kw=annotation_kw, save_kw=save_kw)"
   ]
  },
  {
   "cell_type": "code",
   "execution_count": 3,
   "metadata": {},
   "outputs": [],
   "source": [
    "control_slices = '/Volumes/bernasek_t5/pnt_manuscript/microscopy/yan_clones/control/slices/'\n",
    "mutant_slices = '/Volumes/bernasek_t5/pnt_manuscript/microscopy/yan_clones/perturbation/slices/'\n",
    "genotypes = os.listdir(control_slices)"
   ]
  },
  {
   "cell_type": "code",
   "execution_count": 5,
   "metadata": {},
   "outputs": [],
   "source": [
    "import gc\n",
    "import logging\n",
    "logging.basicConfig(level=logging.INFO, #filename='segmentation.log', \n",
    "                    format='%(asctime)s - %(levelname)s - %(message)s')\n",
    "\n",
    "def run(stack_path, save=True, **kw):\n",
    "    disc_name = stack_path.split('_')[-1].strip('.tif')\n",
    "    logging.info('Starting stack {:s}'.format(disc_name))\n",
    "    stack = Stack(stack_path)\n",
    "    try:\n",
    "        stack.segment(bg='b', save=save, **kw)\n",
    "    except Exception as e:\n",
    "        logging.error(e)\n",
    "        e.__traceback__ = None\n",
    "    logging.info('Completed stack {:s}'.format(disc_name))"
   ]
  },
  {
   "cell_type": "code",
   "execution_count": 6,
   "metadata": {},
   "outputs": [
    {
     "name": "stderr",
     "output_type": "stream",
     "text": [
      "2018-07-21 00:28:19,935 - INFO - Starting genotype w-eyFLP_PntGFP_FRT40A_PntGFP_Ubi-mRFPnls_FRT40A\n",
      "2018-07-21 00:28:19,937 - INFO - Starting stack FRT40A/29\n",
      "2018-07-21 00:28:51,380 - INFO - Completed stack FRT40A/29\n",
      "2018-07-21 00:28:51,397 - INFO - Starting stack FRT40A/30\n",
      "2018-07-21 00:31:04,999 - INFO - Completed stack FRT40A/30\n",
      "2018-07-21 00:31:05,073 - INFO - Starting stack FRT40A/31\n",
      "2018-07-21 00:31:33,794 - INFO - Completed stack FRT40A/31\n",
      "2018-07-21 00:31:33,811 - INFO - Starting stack FRT40A/55\n",
      "2018-07-21 00:33:01,097 - INFO - Completed stack FRT40A/55\n",
      "2018-07-21 00:33:01,143 - INFO - Starting stack FRT40A/56\n",
      "2018-07-21 00:33:30,206 - INFO - Completed stack FRT40A/56\n",
      "2018-07-21 00:33:30,223 - INFO - Starting stack FRT40A/28\n",
      "2018-07-21 00:34:12,898 - INFO - Completed stack FRT40A/28\n",
      "2018-07-21 00:34:12,922 - INFO - Finished genotype w-eyFLP_PntGFP_FRT40A_PntGFP_Ubi-mRFPnls_FRT40A\n",
      "2018-07-21 00:34:12,923 - INFO - Starting genotype Control_w-eyFLP_PntGFP_FRT40A_CyO\n",
      "2018-07-21 00:34:12,924 - INFO - Starting stack CyO/54\n",
      "2018-07-21 00:35:19,778 - INFO - Completed stack CyO/54\n",
      "2018-07-21 00:35:19,821 - INFO - Finished genotype Control_w-eyFLP_PntGFP_FRT40A_CyO\n",
      "2018-07-21 00:35:19,821 - INFO - Starting genotype Control_NOclones_w-eyFLP_PntGFP_FRT40A_Cyo\n",
      "2018-07-21 00:35:19,823 - INFO - Starting stack 27\n",
      "2018-07-21 00:36:16,658 - INFO - Completed stack 27\n",
      "2018-07-21 00:36:16,692 - INFO - Starting stack Cyo/27\n",
      "2018-07-21 00:37:13,303 - INFO - Completed stack Cyo/27\n",
      "2018-07-21 00:37:13,337 - INFO - Finished genotype Control_NOclones_w-eyFLP_PntGFP_FRT40A_Cyo\n",
      "2018-07-21 00:37:13,339 - INFO - Starting genotype w-eyFLP_PntGFP_YanE833_FRT40A_Ubi-mRFPnls_FRT40A\n",
      "2018-07-21 00:37:13,341 - INFO - Starting stack FRT40A/2\n",
      "2018-07-21 00:37:56,933 - INFO - Completed stack FRT40A/2\n",
      "2018-07-21 00:37:56,959 - INFO - Starting stack FRT40A/10\n",
      "2018-07-21 00:38:12,387 - INFO - Completed stack FRT40A/10\n",
      "2018-07-21 00:38:12,399 - INFO - Starting stack FRT40A/1\n",
      "2018-07-21 00:39:10,576 - INFO - Completed stack FRT40A/1\n",
      "2018-07-21 00:39:10,614 - INFO - Finished genotype w-eyFLP_PntGFP_YanE833_FRT40A_Ubi-mRFPnls_FRT40A\n",
      "2018-07-21 00:39:10,615 - INFO - Starting genotype Control_w-eyFLP_PntGFP_Ubi-mRFPnls_FRT40A_Cyo\n",
      "2018-07-21 00:39:10,619 - INFO - Starting stack Cyo/9\n",
      "2018-07-21 00:39:41,664 - INFO - Completed stack Cyo/9\n",
      "2018-07-21 00:39:41,683 - INFO - Finished genotype Control_w-eyFLP_PntGFP_Ubi-mRFPnls_FRT40A_Cyo\n",
      "2018-07-21 00:39:41,684 - INFO - Starting genotype Control_NOclones_w-eyFLP_yanE833_PntGFP_FRT40A_Cyo\n",
      "2018-07-21 00:39:41,688 - INFO - Starting stack Cyo/33\n",
      "2018-07-21 00:40:11,388 - INFO - Completed stack Cyo/33\n",
      "2018-07-21 00:40:11,406 - INFO - Starting stack 22\n",
      "2018-07-21 00:41:07,229 - INFO - Completed stack 22\n",
      "2018-07-21 00:41:07,264 - INFO - Starting stack Cyo/32\n",
      "2018-07-21 00:42:20,008 - INFO - Completed stack Cyo/32\n",
      "2018-07-21 00:42:20,044 - INFO - Finished genotype Control_NOclones_w-eyFLP_yanE833_PntGFP_FRT40A_Cyo\n",
      "2018-07-21 00:42:20,044 - INFO - Starting genotype Control_NOclones_w-eyFLP_PntGFP_Ubi-mRFPnls_FRT40A_Cyo\n",
      "2018-07-21 00:42:20,046 - INFO - Starting stack 22\n",
      "2018-07-21 00:43:16,793 - INFO - Completed stack 22\n",
      "2018-07-21 00:43:16,822 - INFO - Finished genotype Control_NOclones_w-eyFLP_PntGFP_Ubi-mRFPnls_FRT40A_Cyo\n",
      "2018-07-21 00:43:16,822 - INFO - Starting genotype Control_w-eyFLP_PntGFP_Ubi-mRFPnls_FRT40A\n",
      "2018-07-21 00:43:16,824 - INFO - Starting stack FRT40A/18\n",
      "2018-07-21 00:43:45,742 - INFO - Completed stack FRT40A/18\n",
      "2018-07-21 00:43:45,760 - INFO - Finished genotype Control_w-eyFLP_PntGFP_Ubi-mRFPnls_FRT40A\n",
      "2018-07-21 00:43:45,761 - INFO - Starting genotype Control_w-eyFLP_PntGFP_yan3833_FRT40A_CyO\n",
      "2018-07-21 00:43:45,764 - INFO - Starting stack CyO/45\n",
      "2018-07-21 00:44:27,837 - INFO - Completed stack CyO/45\n",
      "2018-07-21 00:44:27,862 - INFO - Starting stack CyO/8\n",
      "2018-07-21 00:44:42,534 - INFO - Completed stack CyO/8\n",
      "2018-07-21 00:44:42,543 - INFO - Finished genotype Control_w-eyFLP_PntGFP_yan3833_FRT40A_CyO\n",
      "2018-07-21 00:44:42,544 - INFO - Starting genotype NO-DAPI_Control_w-eyFLP_PntGFP_Ubi-mRFPnls_FRT40A_Cyo\n",
      "2018-07-21 00:44:42,545 - INFO - Starting stack Cyo/13\n",
      "2018-07-21 00:45:02,456 - INFO - Completed stack Cyo/13\n",
      "2018-07-21 00:45:02,471 - INFO - Finished genotype NO-DAPI_Control_w-eyFLP_PntGFP_Ubi-mRFPnls_FRT40A_Cyo\n",
      "2018-07-21 00:45:02,472 - INFO - Starting genotype NO-DAPI_w-eyFLP_PntGFP_YanE833_FRT40A_PntGFP_Ubi-mRFPnls_FRT40A\n",
      "2018-07-21 00:45:02,473 - INFO - Starting stack FRT40A/14\n",
      "2018-07-21 00:45:23,028 - INFO - Completed stack FRT40A/14\n",
      "2018-07-21 00:45:23,044 - INFO - Finished genotype NO-DAPI_w-eyFLP_PntGFP_YanE833_FRT40A_PntGFP_Ubi-mRFPnls_FRT40A\n",
      "2018-07-21 00:45:23,045 - INFO - Starting genotype w-eyFLP_PntGFP_YanE833_FRT40A_PntGFP_Ubi-mRFPnls_FRT40A\n",
      "2018-07-21 00:45:23,047 - INFO - Starting stack FRT40A/7\n",
      "2018-07-21 00:45:50,536 - INFO - Completed stack FRT40A/7\n",
      "2018-07-21 00:45:50,551 - INFO - Starting stack FRT40A/15\n",
      "2018-07-21 00:46:19,230 - INFO - Completed stack FRT40A/15\n",
      "2018-07-21 00:46:19,248 - INFO - Starting stack FRT40A/16\n",
      "2018-07-21 00:46:33,255 - INFO - Completed stack FRT40A/16\n",
      "2018-07-21 00:46:33,264 - INFO - Starting stack FRT40A/17\n",
      "2018-07-21 00:47:13,386 - INFO - Completed stack FRT40A/17\n",
      "2018-07-21 00:47:13,408 - INFO - Starting stack FRT40A/19\n",
      "2018-07-21 00:47:27,045 - INFO - Completed stack FRT40A/19\n",
      "2018-07-21 00:47:27,054 - INFO - Starting stack FRT40A/20\n",
      "2018-07-21 00:47:40,992 - INFO - Completed stack FRT40A/20\n",
      "2018-07-21 00:47:41,001 - INFO - Starting stack FRT40A/24\n",
      "2018-07-21 00:48:24,436 - INFO - Completed stack FRT40A/24\n",
      "2018-07-21 00:48:24,458 - INFO - Starting stack FRT40A/25\n",
      "2018-07-21 00:49:06,679 - INFO - Completed stack FRT40A/25\n",
      "2018-07-21 00:49:06,704 - INFO - Starting stack FRT40A/26\n",
      "2018-07-21 00:49:21,294 - INFO - Completed stack FRT40A/26\n",
      "2018-07-21 00:49:21,303 - INFO - Starting stack FRT40A/34\n",
      "2018-07-21 00:51:01,686 - INFO - Completed stack FRT40A/34\n",
      "2018-07-21 00:51:01,740 - INFO - Starting stack FRT40A/35\n",
      "2018-07-21 00:51:58,856 - INFO - Completed stack FRT40A/35\n",
      "2018-07-21 00:51:58,887 - INFO - Starting stack FRT40A/36\n",
      "2018-07-21 00:52:55,549 - INFO - Completed stack FRT40A/36\n",
      "2018-07-21 00:52:55,577 - INFO - Starting stack FRT40A/42\n",
      "2018-07-21 00:53:52,962 - INFO - Completed stack FRT40A/42\n",
      "2018-07-21 00:53:52,991 - INFO - Starting stack FRT40A/43\n",
      "2018-07-21 00:55:03,978 - INFO - Completed stack FRT40A/43\n",
      "2018-07-21 00:55:04,018 - INFO - Starting stack FRT40A/44\n",
      "2018-07-21 00:55:36,378 - INFO - Completed stack FRT40A/44\n",
      "2018-07-21 00:55:36,395 - INFO - Starting stack FRT40A/46\n",
      "2018-07-21 00:56:07,446 - INFO - Completed stack FRT40A/46\n",
      "2018-07-21 00:56:07,462 - INFO - Starting stack FRT40A/47\n",
      "2018-07-21 00:57:05,986 - INFO - Completed stack FRT40A/47\n",
      "2018-07-21 00:57:06,015 - INFO - Starting stack FRT40A/48\n",
      "2018-07-21 00:58:06,135 - INFO - Completed stack FRT40A/48\n",
      "2018-07-21 00:58:06,165 - INFO - Starting stack FRT40A/49\n",
      "2018-07-21 00:59:31,109 - INFO - Completed stack FRT40A/49\n",
      "2018-07-21 00:59:31,153 - INFO - Starting stack FRT40A/50\n",
      "2018-07-21 01:00:54,759 - INFO - Completed stack FRT40A/50\n",
      "2018-07-21 01:00:54,802 - INFO - Starting stack FRT40A/51\n",
      "2018-07-21 01:02:17,609 - INFO - Completed stack FRT40A/51\n",
      "2018-07-21 01:02:17,653 - INFO - Starting stack FRT40A/52\n",
      "2018-07-21 01:03:24,854 - INFO - Completed stack FRT40A/52\n",
      "2018-07-21 01:03:24,889 - INFO - Starting stack FRT40A/53\n",
      "2018-07-21 01:04:34,895 - INFO - Completed stack FRT40A/53\n",
      "2018-07-21 01:04:34,930 - INFO - Starting stack FRT40A/6\n",
      "2018-07-21 01:04:49,258 - INFO - Completed stack FRT40A/6\n",
      "2018-07-21 01:04:49,268 - INFO - Finished genotype w-eyFLP_PntGFP_YanE833_FRT40A_PntGFP_Ubi-mRFPnls_FRT40A\n",
      "2018-07-21 01:04:49,269 - INFO - Starting genotype Control_w-eyFLP_Ubi-mRFPnls_FRT40A_Cyo\n",
      "2018-07-21 01:04:49,270 - INFO - Starting stack Cyo/12\n",
      "2018-07-21 01:05:18,758 - INFO - Completed stack Cyo/12\n",
      "2018-07-21 01:05:18,776 - INFO - Starting stack Cyo/11\n",
      "2018-07-21 01:06:16,580 - INFO - Completed stack Cyo/11\n",
      "2018-07-21 01:06:16,609 - INFO - Finished genotype Control_w-eyFLP_Ubi-mRFPnls_FRT40A_Cyo\n",
      "2018-07-21 01:06:16,610 - INFO - Finished all stacks.\n"
     ]
    }
   ],
   "source": [
    "for genotype in os.listdir(control_slices)[::-1]:\n",
    "    logging.info('Starting genotype {:s}'.format(genotype))\n",
    "    experiment_path = os.path.join(control_slices, genotype)\n",
    "    stack_paths = glob.glob(os.path.join(experiment_path, '*[0-9].tif'))        \n",
    "    for stack_path in stack_paths:\n",
    "        run(stack_path, save=True, **kw)\n",
    "    logging.info('Finished genotype {:s}'.format(genotype))\n",
    "        \n",
    "for genotype in os.listdir(mutant_slices):\n",
    "    logging.info('Starting genotype {:s}'.format(genotype))\n",
    "    experiment_path = os.path.join(mutant_slices, genotype)\n",
    "    stack_paths = glob.glob(os.path.join(experiment_path, '*[0-9].tif'))\n",
    "    for stack_path in stack_paths:\n",
    "        run(stack_path, save=True, **kw)\n",
    "    logging.info('Finished genotype {:s}'.format(genotype))\n",
    "\n",
    "logging.info('Finished all stacks.')"
   ]
  },
  {
   "cell_type": "code",
   "execution_count": null,
   "metadata": {},
   "outputs": [],
   "source": []
  },
  {
   "cell_type": "code",
   "execution_count": 15,
   "metadata": {},
   "outputs": [],
   "source": [
    "output = []\n",
    "\n",
    "def parse(experiment, genotype, stack_path):\n",
    "    stack = Stack(stack_path)\n",
    "    for layer in range(stack.depth):\n",
    "        record = dict(experiment=experiment, genotype=genotype, disc=stack.disc_name, layer=layer)\n",
    "        output.append(record)\n",
    "    "
   ]
  },
  {
   "cell_type": "code",
   "execution_count": null,
   "metadata": {},
   "outputs": [],
   "source": []
  },
  {
   "cell_type": "code",
   "execution_count": null,
   "metadata": {},
   "outputs": [],
   "source": []
  },
  {
   "cell_type": "code",
   "execution_count": 16,
   "metadata": {},
   "outputs": [],
   "source": [
    "for genotype in os.listdir(control_slices)[::-1]:\n",
    "    experiment_path = os.path.join(control_slices, genotype)\n",
    "    stack_paths = glob.glob(os.path.join(experiment_path, '*[0-9].tif'))        \n",
    "    for stack_path in stack_paths:\n",
    "        parse('control', genotype, stack_path)\n",
    "        \n",
    "for genotype in os.listdir(mutant_slices):\n",
    "    experiment_path = os.path.join(mutant_slices, genotype)\n",
    "    stack_paths = glob.glob(os.path.join(experiment_path, '*[0-9].tif'))\n",
    "    for stack_path in stack_paths:\n",
    "        parse('perturbation', genotype, stack_path)"
   ]
  },
  {
   "cell_type": "code",
   "execution_count": 7,
   "metadata": {},
   "outputs": [],
   "source": []
  },
  {
   "cell_type": "code",
   "execution_count": 18,
   "metadata": {},
   "outputs": [],
   "source": [
    "import pandas as pd"
   ]
  },
  {
   "cell_type": "code",
   "execution_count": 20,
   "metadata": {},
   "outputs": [],
   "source": [
    "df = pd.DataFrame.from_records(output)"
   ]
  },
  {
   "cell_type": "code",
   "execution_count": 24,
   "metadata": {},
   "outputs": [],
   "source": [
    "# Create a Pandas Excel writer using XlsxWriter as the engine.\n",
    "writer = pd.ExcelWriter('layers.xlsx', engine='xlsxwriter')\n",
    "\n",
    "# Convert the dataframe to an XlsxWriter Excel object.\n",
    "df.to_excel(writer, sheet_name='layers')\n",
    "\n",
    "# Close the Pandas Excel writer and output the Excel file.\n",
    "writer.save()"
   ]
  },
  {
   "cell_type": "code",
   "execution_count": null,
   "metadata": {},
   "outputs": [],
   "source": []
  },
  {
   "cell_type": "code",
   "execution_count": null,
   "metadata": {},
   "outputs": [],
   "source": []
  },
  {
   "cell_type": "code",
   "execution_count": null,
   "metadata": {},
   "outputs": [],
   "source": []
  },
  {
   "cell_type": "code",
   "execution_count": null,
   "metadata": {},
   "outputs": [],
   "source": []
  },
  {
   "cell_type": "code",
   "execution_count": null,
   "metadata": {},
   "outputs": [],
   "source": []
  },
  {
   "cell_type": "code",
   "execution_count": null,
   "metadata": {},
   "outputs": [],
   "source": []
  },
  {
   "cell_type": "code",
   "execution_count": null,
   "metadata": {},
   "outputs": [],
   "source": []
  },
  {
   "cell_type": "code",
   "execution_count": null,
   "metadata": {},
   "outputs": [],
   "source": []
  },
  {
   "cell_type": "code",
   "execution_count": null,
   "metadata": {},
   "outputs": [],
   "source": []
  },
  {
   "cell_type": "code",
   "execution_count": 12,
   "metadata": {},
   "outputs": [
    {
     "data": {
      "text/plain": [
       "'/Volumes/bernasek_t5/pnt_manuscript/microscopy/yan_clones/perturbation/slices/Control_w-eyFLP_Ubi-mRFPnls_FRT40A_Cyo'"
      ]
     },
     "execution_count": 12,
     "metadata": {},
     "output_type": "execute_result"
    }
   ],
   "source": [
    "stack.genotype_path"
   ]
  },
  {
   "cell_type": "code",
   "execution_count": 9,
   "metadata": {},
   "outputs": [],
   "source": []
  },
  {
   "cell_type": "code",
   "execution_count": null,
   "metadata": {},
   "outputs": [],
   "source": [
    "def run_diagnostic(stack_path, save=True, **kw):\n",
    "    disc_name = stack_path.split('_')[-1].strip('.tif')\n",
    "    stack = Stack(stack_path)\n",
    "    stack.segment(bg='b', save=save, **kw)"
   ]
  },
  {
   "cell_type": "code",
   "execution_count": 6,
   "metadata": {},
   "outputs": [],
   "source": [
    "for genotype in os.listdir(control_slices)[::-1]:\n",
    "    logging.info('Starting genotype {:s}'.format(genotype))\n",
    "    experiment_path = os.path.join(control_slices, genotype)\n",
    "    stack_paths = glob.glob(os.path.join(experiment_path, '*[0-9].tif'))    \n",
    "    \n",
    "    break"
   ]
  },
  {
   "cell_type": "code",
   "execution_count": 10,
   "metadata": {},
   "outputs": [
    {
     "ename": "TypeError",
     "evalue": "int() argument must be a string, a bytes-like object or a number, not 'NoneType'",
     "output_type": "error",
     "traceback": [
      "\u001b[0;31m---------------------------------------------------------------------------\u001b[0m",
      "\u001b[0;31mTypeError\u001b[0m                                 Traceback (most recent call last)",
      "\u001b[0;32m<ipython-input-10-584c39300dfd>\u001b[0m in \u001b[0;36m<module>\u001b[0;34m()\u001b[0m\n\u001b[0;32m----> 1\u001b[0;31m \u001b[0mrun_diagnostic\u001b[0m\u001b[0;34m(\u001b[0m\u001b[0mstack_paths\u001b[0m\u001b[0;34m[\u001b[0m\u001b[0;36m1\u001b[0m\u001b[0;34m]\u001b[0m\u001b[0;34m,\u001b[0m \u001b[0msave\u001b[0m\u001b[0;34m=\u001b[0m\u001b[0;32mTrue\u001b[0m\u001b[0;34m,\u001b[0m \u001b[0;34m**\u001b[0m\u001b[0mkw\u001b[0m\u001b[0;34m)\u001b[0m\u001b[0;34m\u001b[0m\u001b[0m\n\u001b[0m",
      "\u001b[0;32m<ipython-input-9-4026b8d981a0>\u001b[0m in \u001b[0;36mrun_diagnostic\u001b[0;34m(stack_path, save, **kw)\u001b[0m\n\u001b[1;32m      2\u001b[0m     \u001b[0mdisc_name\u001b[0m \u001b[0;34m=\u001b[0m \u001b[0mstack_path\u001b[0m\u001b[0;34m.\u001b[0m\u001b[0msplit\u001b[0m\u001b[0;34m(\u001b[0m\u001b[0;34m'_'\u001b[0m\u001b[0;34m)\u001b[0m\u001b[0;34m[\u001b[0m\u001b[0;34m-\u001b[0m\u001b[0;36m1\u001b[0m\u001b[0;34m]\u001b[0m\u001b[0;34m.\u001b[0m\u001b[0mstrip\u001b[0m\u001b[0;34m(\u001b[0m\u001b[0;34m'.tif'\u001b[0m\u001b[0;34m)\u001b[0m\u001b[0;34m\u001b[0m\u001b[0m\n\u001b[1;32m      3\u001b[0m     \u001b[0mstack\u001b[0m \u001b[0;34m=\u001b[0m \u001b[0mStack\u001b[0m\u001b[0;34m(\u001b[0m\u001b[0mstack_path\u001b[0m\u001b[0;34m)\u001b[0m\u001b[0;34m\u001b[0m\u001b[0m\n\u001b[0;32m----> 4\u001b[0;31m     \u001b[0mstack\u001b[0m\u001b[0;34m.\u001b[0m\u001b[0msegment\u001b[0m\u001b[0;34m(\u001b[0m\u001b[0mbg\u001b[0m\u001b[0;34m=\u001b[0m\u001b[0;34m'b'\u001b[0m\u001b[0;34m,\u001b[0m \u001b[0msave\u001b[0m\u001b[0;34m=\u001b[0m\u001b[0msave\u001b[0m\u001b[0;34m,\u001b[0m \u001b[0;34m**\u001b[0m\u001b[0mkw\u001b[0m\u001b[0;34m)\u001b[0m\u001b[0;34m\u001b[0m\u001b[0m\n\u001b[0m",
      "\u001b[0;32m~/Documents/grad_school/research/segmentation_2d/modules/stacks.py\u001b[0m in \u001b[0;36msegment\u001b[0;34m(self, bg, segmentation_kw, fg_kw, annotation_kw, save_kw, save)\u001b[0m\n\u001b[1;32m     78\u001b[0m             \u001b[0mlayer\u001b[0m\u001b[0;34m.\u001b[0m\u001b[0mcompile_dataframe\u001b[0m\u001b[0;34m(\u001b[0m\u001b[0;34m)\u001b[0m\u001b[0;34m\u001b[0m\u001b[0m\n\u001b[1;32m     79\u001b[0m             \u001b[0mlayer\u001b[0m\u001b[0;34m.\u001b[0m\u001b[0mset_foreground\u001b[0m\u001b[0;34m(\u001b[0m\u001b[0;34m**\u001b[0m\u001b[0mfg_kw\u001b[0m\u001b[0;34m)\u001b[0m\u001b[0;34m\u001b[0m\u001b[0m\n\u001b[0;32m---> 80\u001b[0;31m             \u001b[0mlayer\u001b[0m\u001b[0;34m.\u001b[0m\u001b[0mannotate\u001b[0m\u001b[0;34m(\u001b[0m\u001b[0;34m**\u001b[0m\u001b[0mannotation_kw\u001b[0m\u001b[0;34m)\u001b[0m\u001b[0;34m\u001b[0m\u001b[0m\n\u001b[0m\u001b[1;32m     81\u001b[0m \u001b[0;34m\u001b[0m\u001b[0m\n\u001b[1;32m     82\u001b[0m             \u001b[0;31m# save layer segmentation\u001b[0m\u001b[0;34m\u001b[0m\u001b[0;34m\u001b[0m\u001b[0m\n",
      "\u001b[0;32m~/Documents/grad_school/research/segmentation_2d/modules/stacks.py\u001b[0m in \u001b[0;36mannotate\u001b[0;34m(self, q, channel, weighting, fg_only, upper_bound)\u001b[0m\n\u001b[1;32m    260\u001b[0m         \u001b[0mkw\u001b[0m \u001b[0;34m=\u001b[0m \u001b[0mdict\u001b[0m\u001b[0;34m(\u001b[0m\u001b[0mq\u001b[0m\u001b[0;34m=\u001b[0m\u001b[0mq\u001b[0m\u001b[0;34m,\u001b[0m \u001b[0mchannel\u001b[0m\u001b[0;34m=\u001b[0m\u001b[0mchannel\u001b[0m\u001b[0;34m,\u001b[0m \u001b[0mweighting\u001b[0m\u001b[0;34m=\u001b[0m\u001b[0mweighting\u001b[0m\u001b[0;34m,\u001b[0m \u001b[0mfg_only\u001b[0m\u001b[0;34m=\u001b[0m\u001b[0mfg_only\u001b[0m\u001b[0;34m,\u001b[0m \u001b[0mupper_bound\u001b[0m\u001b[0;34m=\u001b[0m\u001b[0mupper_bound\u001b[0m\u001b[0;34m)\u001b[0m\u001b[0;34m\u001b[0m\u001b[0m\n\u001b[1;32m    261\u001b[0m         \u001b[0mself\u001b[0m\u001b[0;34m.\u001b[0m\u001b[0mannotation\u001b[0m \u001b[0;34m=\u001b[0m \u001b[0mAnnotation\u001b[0m\u001b[0;34m(\u001b[0m\u001b[0mself\u001b[0m\u001b[0;34m.\u001b[0m\u001b[0mdf\u001b[0m\u001b[0;34m,\u001b[0m \u001b[0;34m**\u001b[0m\u001b[0mkw\u001b[0m\u001b[0;34m)\u001b[0m\u001b[0;34m\u001b[0m\u001b[0m\n\u001b[0;32m--> 262\u001b[0;31m         \u001b[0mself\u001b[0m\u001b[0;34m.\u001b[0m\u001b[0mdf\u001b[0m\u001b[0;34m[\u001b[0m\u001b[0;34m'genotype'\u001b[0m\u001b[0;34m]\u001b[0m \u001b[0;34m=\u001b[0m \u001b[0mself\u001b[0m\u001b[0;34m.\u001b[0m\u001b[0mannotation\u001b[0m\u001b[0;34m(\u001b[0m\u001b[0mself\u001b[0m\u001b[0;34m.\u001b[0m\u001b[0mdf\u001b[0m\u001b[0;34m.\u001b[0m\u001b[0mindex\u001b[0m\u001b[0;34m)\u001b[0m\u001b[0;34m\u001b[0m\u001b[0m\n\u001b[0m\u001b[1;32m    263\u001b[0m \u001b[0;34m\u001b[0m\u001b[0m\n\u001b[1;32m    264\u001b[0m     \u001b[0;32mdef\u001b[0m \u001b[0mplot_annotation\u001b[0m\u001b[0;34m(\u001b[0m\u001b[0mself\u001b[0m\u001b[0;34m,\u001b[0m \u001b[0mcmap\u001b[0m\u001b[0;34m=\u001b[0m\u001b[0;32mNone\u001b[0m\u001b[0;34m,\u001b[0m \u001b[0mfig_kw\u001b[0m\u001b[0;34m=\u001b[0m\u001b[0;34m{\u001b[0m\u001b[0;34m}\u001b[0m\u001b[0;34m,\u001b[0m \u001b[0mclone_kw\u001b[0m\u001b[0;34m=\u001b[0m\u001b[0;34m{\u001b[0m\u001b[0;34m}\u001b[0m\u001b[0;34m)\u001b[0m\u001b[0;34m:\u001b[0m\u001b[0;34m\u001b[0m\u001b[0m\n",
      "\u001b[0;32m~/Documents/grad_school/research/segmentation_2d/modules/annotation.py\u001b[0m in \u001b[0;36m__call__\u001b[0;34m(self, ind)\u001b[0m\n\u001b[1;32m    128\u001b[0m             \u001b[0mbg\u001b[0m \u001b[0;34m=\u001b[0m \u001b[0mself\u001b[0m\u001b[0;34m.\u001b[0m\u001b[0mbg\u001b[0m\u001b[0;34m.\u001b[0m\u001b[0mvalues\u001b[0m\u001b[0;34m\u001b[0m\u001b[0m\n\u001b[1;32m    129\u001b[0m             \u001b[0mnode_to_genotype\u001b[0m\u001b[0;34m.\u001b[0m\u001b[0mupdate\u001b[0m\u001b[0;34m(\u001b[0m\u001b[0mdict\u001b[0m\u001b[0;34m(\u001b[0m\u001b[0mzip\u001b[0m\u001b[0;34m(\u001b[0m\u001b[0mbg\u001b[0m\u001b[0;34m,\u001b[0m \u001b[0;34m-\u001b[0m\u001b[0mnp\u001b[0m\u001b[0;34m.\u001b[0m\u001b[0mones_like\u001b[0m\u001b[0;34m(\u001b[0m\u001b[0mbg\u001b[0m\u001b[0;34m)\u001b[0m\u001b[0;34m)\u001b[0m\u001b[0;34m)\u001b[0m\u001b[0;34m)\u001b[0m\u001b[0;34m\u001b[0m\u001b[0m\n\u001b[0;32m--> 130\u001b[0;31m         \u001b[0;32mreturn\u001b[0m \u001b[0mnp\u001b[0m\u001b[0;34m.\u001b[0m\u001b[0mvectorize\u001b[0m\u001b[0;34m(\u001b[0m\u001b[0mnode_to_genotype\u001b[0m\u001b[0;34m.\u001b[0m\u001b[0mget\u001b[0m\u001b[0;34m)\u001b[0m\u001b[0;34m(\u001b[0m\u001b[0mind\u001b[0m\u001b[0;34m)\u001b[0m\u001b[0;34m\u001b[0m\u001b[0m\n\u001b[0m\u001b[1;32m    131\u001b[0m \u001b[0;34m\u001b[0m\u001b[0m\n\u001b[1;32m    132\u001b[0m     \u001b[0;32mdef\u001b[0m \u001b[0mset_colormap\u001b[0m\u001b[0;34m(\u001b[0m\u001b[0mself\u001b[0m\u001b[0;34m,\u001b[0m \u001b[0mcolors\u001b[0m\u001b[0;34m=\u001b[0m\u001b[0;32mNone\u001b[0m\u001b[0;34m,\u001b[0m \u001b[0mborder_color\u001b[0m\u001b[0;34m=\u001b[0m\u001b[0;34m'y'\u001b[0m\u001b[0;34m)\u001b[0m\u001b[0;34m:\u001b[0m\u001b[0;34m\u001b[0m\u001b[0m\n",
      "\u001b[0;32m~/.virtualenvs/clones/lib/python3.6/site-packages/numpy/lib/function_base.py\u001b[0m in \u001b[0;36m__call__\u001b[0;34m(self, *args, **kwargs)\u001b[0m\n\u001b[1;32m   2753\u001b[0m             \u001b[0mvargs\u001b[0m\u001b[0;34m.\u001b[0m\u001b[0mextend\u001b[0m\u001b[0;34m(\u001b[0m\u001b[0;34m[\u001b[0m\u001b[0mkwargs\u001b[0m\u001b[0;34m[\u001b[0m\u001b[0m_n\u001b[0m\u001b[0;34m]\u001b[0m \u001b[0;32mfor\u001b[0m \u001b[0m_n\u001b[0m \u001b[0;32min\u001b[0m \u001b[0mnames\u001b[0m\u001b[0;34m]\u001b[0m\u001b[0;34m)\u001b[0m\u001b[0;34m\u001b[0m\u001b[0m\n\u001b[1;32m   2754\u001b[0m \u001b[0;34m\u001b[0m\u001b[0m\n\u001b[0;32m-> 2755\u001b[0;31m         \u001b[0;32mreturn\u001b[0m \u001b[0mself\u001b[0m\u001b[0;34m.\u001b[0m\u001b[0m_vectorize_call\u001b[0m\u001b[0;34m(\u001b[0m\u001b[0mfunc\u001b[0m\u001b[0;34m=\u001b[0m\u001b[0mfunc\u001b[0m\u001b[0;34m,\u001b[0m \u001b[0margs\u001b[0m\u001b[0;34m=\u001b[0m\u001b[0mvargs\u001b[0m\u001b[0;34m)\u001b[0m\u001b[0;34m\u001b[0m\u001b[0m\n\u001b[0m\u001b[1;32m   2756\u001b[0m \u001b[0;34m\u001b[0m\u001b[0m\n\u001b[1;32m   2757\u001b[0m     \u001b[0;32mdef\u001b[0m \u001b[0m_get_ufunc_and_otypes\u001b[0m\u001b[0;34m(\u001b[0m\u001b[0mself\u001b[0m\u001b[0;34m,\u001b[0m \u001b[0mfunc\u001b[0m\u001b[0;34m,\u001b[0m \u001b[0margs\u001b[0m\u001b[0;34m)\u001b[0m\u001b[0;34m:\u001b[0m\u001b[0;34m\u001b[0m\u001b[0m\n",
      "\u001b[0;32m~/.virtualenvs/clones/lib/python3.6/site-packages/numpy/lib/function_base.py\u001b[0m in \u001b[0;36m_vectorize_call\u001b[0;34m(self, func, args)\u001b[0m\n\u001b[1;32m   2832\u001b[0m \u001b[0;34m\u001b[0m\u001b[0m\n\u001b[1;32m   2833\u001b[0m             \u001b[0;32mif\u001b[0m \u001b[0mufunc\u001b[0m\u001b[0;34m.\u001b[0m\u001b[0mnout\u001b[0m \u001b[0;34m==\u001b[0m \u001b[0;36m1\u001b[0m\u001b[0;34m:\u001b[0m\u001b[0;34m\u001b[0m\u001b[0m\n\u001b[0;32m-> 2834\u001b[0;31m                 \u001b[0mres\u001b[0m \u001b[0;34m=\u001b[0m \u001b[0marray\u001b[0m\u001b[0;34m(\u001b[0m\u001b[0moutputs\u001b[0m\u001b[0;34m,\u001b[0m \u001b[0mcopy\u001b[0m\u001b[0;34m=\u001b[0m\u001b[0;32mFalse\u001b[0m\u001b[0;34m,\u001b[0m \u001b[0msubok\u001b[0m\u001b[0;34m=\u001b[0m\u001b[0;32mTrue\u001b[0m\u001b[0;34m,\u001b[0m \u001b[0mdtype\u001b[0m\u001b[0;34m=\u001b[0m\u001b[0motypes\u001b[0m\u001b[0;34m[\u001b[0m\u001b[0;36m0\u001b[0m\u001b[0;34m]\u001b[0m\u001b[0;34m)\u001b[0m\u001b[0;34m\u001b[0m\u001b[0m\n\u001b[0m\u001b[1;32m   2835\u001b[0m             \u001b[0;32melse\u001b[0m\u001b[0;34m:\u001b[0m\u001b[0;34m\u001b[0m\u001b[0m\n\u001b[1;32m   2836\u001b[0m                 res = tuple([array(x, copy=False, subok=True, dtype=t)\n",
      "\u001b[0;31mTypeError\u001b[0m: int() argument must be a string, a bytes-like object or a number, not 'NoneType'"
     ]
    }
   ],
   "source": [
    "run_diagnostic(stack_paths[1], save=True, **kw)"
   ]
  },
  {
   "cell_type": "code",
   "execution_count": null,
   "metadata": {},
   "outputs": [],
   "source": []
  },
  {
   "cell_type": "code",
   "execution_count": null,
   "metadata": {},
   "outputs": [],
   "source": []
  },
  {
   "cell_type": "code",
   "execution_count": 12,
   "metadata": {},
   "outputs": [],
   "source": [
    "# # controls\n",
    "# control_genotype = 'w-eyFLP_PntGFP_FRT40A_PntGFP_Ubi-mRFPnls_FRT40A'\n",
    "# overall_start = time()\n",
    "# logging.info('Starting genotype {:s}'.format(control_genotype))\n",
    "# experiment_path = os.path.join(control_slices, control_genotype)\n",
    "# stack_paths = glob.glob(os.path.join(experiment_path, 'control*[0-9].tif'))        \n",
    "# for stack_path in stack_paths:\n",
    "#     run(stack_path, save=True, **kw)\n",
    "# logging.info('Finished genotype {:s}'.format(control_genotype))\n",
    "\n",
    "# mutants\n",
    "mutant_genotype = 'w-eyFLP_PntGFP_YanE833_FRT40A_PntGFP_Ubi-mRFPnls_FRT40A'\n",
    "logging.info('Starting genotype {:s}'.format(mutant_genotype))\n",
    "experiment_path = os.path.join(mutant_slices, mutant_genotype)\n",
    "stack_paths = glob.glob(os.path.join(experiment_path, 'perturbation*[0-9].tif'))\n",
    "for stack_path in stack_paths[13:]:\n",
    "    run(stack_path, save=True, **kw)\n",
    "    gc.collect()\n",
    "    sleep(30)\n",
    "logging.info('Finished genotype {:s}'.format(mutant_genotype))\n",
    "logging.info('Finished all stacks.')"
   ]
  },
  {
   "cell_type": "code",
   "execution_count": 13,
   "metadata": {},
   "outputs": [
    {
     "name": "stdout",
     "output_type": "stream",
     "text": [
      "                       types |   # objects |   total size\n",
      "============================ | =========== | ============\n",
      "                 <class 'str |       96225 |     17.91 MB\n",
      "                <class 'dict |       16509 |     10.62 MB\n",
      "  <class '_io.BufferedWriter |           4 |      4.38 MB\n",
      "                <class 'code |       30480 |      4.19 MB\n",
      "                <class 'type |        3397 |      3.50 MB\n"
     ]
    }
   ],
   "source": [
    "from pympler import summary, muppy\n",
    "all_objects = muppy.get_objects()\n",
    "summarized = summary.summarize(all_objects)\n",
    "summarized = sorted(summarized, key=lambda x: x[-1], reverse=True)\n",
    "summary.print_(summarized[:20], limit=5) "
   ]
  },
  {
   "cell_type": "code",
   "execution_count": null,
   "metadata": {},
   "outputs": [],
   "source": []
  },
  {
   "cell_type": "code",
   "execution_count": null,
   "metadata": {},
   "outputs": [],
   "source": []
  }
 ],
 "metadata": {
  "kernelspec": {
   "display_name": "clones",
   "language": "python",
   "name": "clones"
  },
  "language_info": {
   "codemirror_mode": {
    "name": "ipython",
    "version": 3
   },
   "file_extension": ".py",
   "mimetype": "text/x-python",
   "name": "python",
   "nbconvert_exporter": "python",
   "pygments_lexer": "ipython3",
   "version": "3.6.4"
  }
 },
 "nbformat": 4,
 "nbformat_minor": 2
}
