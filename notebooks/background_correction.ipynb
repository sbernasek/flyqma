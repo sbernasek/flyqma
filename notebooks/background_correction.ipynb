{
 "cells": [
  {
   "cell_type": "code",
   "execution_count": null,
   "metadata": {},
   "outputs": [],
   "source": [
    "import sys, os\n",
    "from time import time\n",
    "if '../' not in sys.path:\n",
    "    sys.path.insert(0, '../')\n",
    "\n",
    "import pandas as pd\n",
    "import matplotlib.pyplot as plt\n",
    "import numpy as np\n",
    "\n",
    "from modules.paths import Experiment\n",
    "from modules.background import LinearCorrection, GLMCorrection, StackCorrector\n",
    "from modules.io import IO\n",
    "\n",
    "%reload_ext autoreload\n",
    "%autoreload 2\n",
    "%matplotlib inline"
   ]
  },
  {
   "cell_type": "code",
   "execution_count": null,
   "metadata": {},
   "outputs": [],
   "source": [
    "# Load paths to each set of experiments\n",
    "loc = '/Volumes/bernasek_t5/pnt_manuscript/microscopy/yan_clones/'\n",
    "#loc = '/Users/Sebi/Desktop/clones/'\n",
    "control_path = os.path.join(loc, 'control/slices/w-eyFLP_PntGFP_FRT40A_PntGFP_Ubi-mRFPnls_FRT40A')\n",
    "mutant_path = os.path.join(loc, 'perturbation/slices/w-eyFLP_PntGFP_YanE833_FRT40A_PntGFP_Ubi-mRFPnls_FRT40A')\n",
    "control_exp = Experiment(control_path)\n",
    "perturbation_exp = Experiment(mutant_path)\n",
    "experiments = dict(control=control_exp, perturbation=perturbation_exp)"
   ]
  },
  {
   "cell_type": "code",
   "execution_count": null,
   "metadata": {},
   "outputs": [],
   "source": [
    "\"\"\" \n",
    "P-25-2 had to change percentile to 99.99 \n",
    "\n",
    "P-46-1 is a good example\n",
    "\"\"\""
   ]
  },
  {
   "cell_type": "markdown",
   "metadata": {},
   "source": [
    "# correct all stacks"
   ]
  },
  {
   "cell_type": "code",
   "execution_count": null,
   "metadata": {},
   "outputs": [],
   "source": [
    "exp = experiments['perturbation']\n",
    "for stack in exp:\n",
    "    try:\n",
    "        corr = StackCorrector(stack, mode='glm', niters=20, resample=True, resample_cutoff=99.999)\n",
    "        corr.save()\n",
    "    except:\n",
    "        print('FAIL: Disc {:s}'.format(stack.disc_name))"
   ]
  },
  {
   "cell_type": "markdown",
   "metadata": {},
   "source": [
    "# correct individual stack"
   ]
  },
  {
   "cell_type": "code",
   "execution_count": null,
   "metadata": {},
   "outputs": [],
   "source": [
    "exp = experiments['perturbation']\n",
    "stack = exp.discs[53].load_stack()"
   ]
  },
  {
   "cell_type": "code",
   "execution_count": null,
   "metadata": {},
   "outputs": [],
   "source": [
    "corr = StackCorrector(stack, mode='glm', niters=20, resample=True, resample_cutoff=99.999)"
   ]
  },
  {
   "cell_type": "code",
   "execution_count": null,
   "metadata": {},
   "outputs": [],
   "source": [
    "corr.show()"
   ]
  },
  {
   "cell_type": "code",
   "execution_count": null,
   "metadata": {},
   "outputs": [],
   "source": [
    "corr.save()"
   ]
  },
  {
   "cell_type": "code",
   "execution_count": null,
   "metadata": {},
   "outputs": [],
   "source": [
    "layer_id = 3\n",
    "corr.correct(layer_id=layer_id, \n",
    "             mode='glm',\n",
    "             niters=10, \n",
    "             resample=True,\n",
    "             resample_cutoff=99.999)\n",
    "correction = corr.corrections[layer_id]\n",
    "correction.show_correction(furrow_only=False)\n",
    "correction.show_fit()\n",
    "fig = correction.show_pixel_distributions()\n",
    "fig = correction.show_mask()"
   ]
  },
  {
   "cell_type": "code",
   "execution_count": null,
   "metadata": {},
   "outputs": [],
   "source": []
  },
  {
   "cell_type": "code",
   "execution_count": null,
   "metadata": {},
   "outputs": [],
   "source": []
  },
  {
   "cell_type": "code",
   "execution_count": null,
   "metadata": {},
   "outputs": [],
   "source": []
  },
  {
   "cell_type": "code",
   "execution_count": null,
   "metadata": {},
   "outputs": [],
   "source": []
  }
 ],
 "metadata": {
  "kernelspec": {
   "display_name": "clones",
   "language": "python",
   "name": "clones"
  },
  "language_info": {
   "codemirror_mode": {
    "name": "ipython",
    "version": 3
   },
   "file_extension": ".py",
   "mimetype": "text/x-python",
   "name": "python",
   "nbconvert_exporter": "python",
   "pygments_lexer": "ipython3",
   "version": "3.6.4"
  }
 },
 "nbformat": 4,
 "nbformat_minor": 2
}
