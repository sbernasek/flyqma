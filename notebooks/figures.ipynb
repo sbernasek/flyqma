{
 "cells": [
  {
   "cell_type": "code",
   "execution_count": 1,
   "metadata": {},
   "outputs": [],
   "source": [
    "import sys, os\n",
    "from glob import glob\n",
    "p = '../'\n",
    "if p not in sys.path:\n",
    "    sys.path.insert(0, p)"
   ]
  },
  {
   "cell_type": "code",
   "execution_count": 2,
   "metadata": {},
   "outputs": [],
   "source": [
    "from clones.data.experiments import Experiment\n",
    "from clones.analysis.statistics import SummaryStatistics\n",
    "\n",
    "%reload_ext autoreload\n",
    "%autoreload 2\n",
    "%matplotlib inline"
   ]
  },
  {
   "cell_type": "markdown",
   "metadata": {},
   "source": [
    "# Load measurement data"
   ]
  },
  {
   "cell_type": "code",
   "execution_count": 3,
   "metadata": {},
   "outputs": [],
   "source": [
    "# define measurement inclusion criteria\n",
    "options = dict(selected_only=True, exclude_boundary=True)\n",
    "\n",
    "# load control\n",
    "control = Experiment('../data/clones/bleedthrough_control')\n",
    "control_data = control.aggregate_measurements(**options)\n",
    "\n",
    "# load perturbation\n",
    "perturbation = Experiment('../data/clones/yanE833')\n",
    "perturbation_data = perturbation.aggregate_measurements(**options)"
   ]
  },
  {
   "cell_type": "markdown",
   "metadata": {},
   "source": [
    "# Compare clones"
   ]
  },
  {
   "cell_type": "code",
   "execution_count": 7,
   "metadata": {},
   "outputs": [
    {
     "name": "stdout",
     "output_type": "stream",
     "text": [
      "Statistical test: MW\n",
      "Control: 0x vs 1x: 0.2846\n",
      "Control: 1x vs 2x: 0.4795\n",
      "Perturbation: 0x vs 1x: 0.0000\n",
      "Perturbation: 1x vs 2x: 0.0000\n"
     ]
    }
   ],
   "source": [
    "# evaluate pvalues for (M vs H) and (H vs W) comparisons under each condition\n",
    "st = SummaryStatistics(control_data, perturbation_data, basis='gc_normalized')"
   ]
  },
  {
   "cell_type": "code",
   "execution_count": null,
   "metadata": {},
   "outputs": [],
   "source": []
  },
  {
   "cell_type": "code",
   "execution_count": 5,
   "metadata": {},
   "outputs": [],
   "source": [
    "data = perturbation_data[perturbation_data.concurrent_m & \n",
    "                         perturbation_data.concurrent_h & \n",
    "                         perturbation_data.concurrent_w]"
   ]
  },
  {
   "cell_type": "code",
   "execution_count": null,
   "metadata": {},
   "outputs": [],
   "source": []
  },
  {
   "cell_type": "code",
   "execution_count": null,
   "metadata": {},
   "outputs": [],
   "source": []
  },
  {
   "cell_type": "code",
   "execution_count": null,
   "metadata": {},
   "outputs": [],
   "source": []
  },
  {
   "cell_type": "code",
   "execution_count": null,
   "metadata": {},
   "outputs": [],
   "source": []
  },
  {
   "cell_type": "code",
   "execution_count": null,
   "metadata": {},
   "outputs": [],
   "source": []
  },
  {
   "cell_type": "code",
   "execution_count": null,
   "metadata": {},
   "outputs": [],
   "source": []
  },
  {
   "cell_type": "code",
   "execution_count": null,
   "metadata": {},
   "outputs": [],
   "source": []
  },
  {
   "cell_type": "code",
   "execution_count": null,
   "metadata": {},
   "outputs": [],
   "source": [
    "from modules.figures import ControlComparison, ChannelComparison\n"
   ]
  },
  {
   "cell_type": "code",
   "execution_count": null,
   "metadata": {},
   "outputs": [],
   "source": [
    "gb = control.groupby(('experiment', 'disc_id', 'layer'))\n",
    "N = len(gb)\n",
    "fig, axes = plt.subplots(ncols=N, figsize=(N, 3))\n",
    "\n",
    "for i, (index, layer) in enumerate(gb):\n",
    "    ax = axes[i]\n",
    "    \n",
    "    color_dict = {0: 'y', 1: 'c', 2: 'm'}\n",
    "    c = np.vectorize(color_dict.get)(layer.genotype)\n",
    "    ax.scatter(layer.centroid_x, layer.centroid_y, c=c, s=1)\n",
    "    ax.set_aspect(1)\n",
    "    ax.axis('off')"
   ]
  },
  {
   "cell_type": "code",
   "execution_count": null,
   "metadata": {},
   "outputs": [],
   "source": [
    "order = (0, 1)\n",
    "\n",
    "control = df[df.experiment=='control']\n",
    "control_comparison = ChannelComparison(control, order=order, name='control_0x_vs_1x', cut=1)\n",
    "ax0, ax1 = control_comparison.fig.axes\n",
    "ax0.set_ylim(-0.1, 2.5)\n",
    "ax1.set_ylim(-0.1, 1.3)\n",
    "ax0.set_yticks(np.arange(0, 2.5+.1, .5))\n",
    "ax1.set_yticks(np.arange(0, 1.4+.1, .3))\n",
    "plt.tight_layout()\n",
    "\n",
    "perturbation = df[df.experiment=='perturbation']\n",
    "perturbation_comparison = ChannelComparison(perturbation, order=order, name='perturbation_0x_vs_1x', cut=1)\n",
    "ax0, ax1 = perturbation_comparison.fig.axes\n",
    "ax0.set_ylim(-0.1, 2.5)\n",
    "ax1.set_ylim(-0.1, 1.)\n",
    "ax0.set_yticks(np.arange(0, 2.5+.1, .5))\n",
    "ax1.set_yticks(np.arange(0, 1+.1, .2))\n",
    "plt.tight_layout()\n",
    "\n",
    "# control_comparison.save()\n",
    "# perturbation_comparison.save()"
   ]
  }
 ],
 "metadata": {
  "kernelspec": {
   "display_name": "clones",
   "language": "python",
   "name": "clones"
  },
  "language_info": {
   "codemirror_mode": {
    "name": "ipython",
    "version": 3
   },
   "file_extension": ".py",
   "mimetype": "text/x-python",
   "name": "python",
   "nbconvert_exporter": "python",
   "pygments_lexer": "ipython3",
   "version": "3.6.4"
  }
 },
 "nbformat": 4,
 "nbformat_minor": 2
}
