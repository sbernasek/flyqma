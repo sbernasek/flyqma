{
 "cells": [
  {
   "cell_type": "code",
   "execution_count": 6,
   "metadata": {},
   "outputs": [],
   "source": [
    "import sys, os\n",
    "import gc\n",
    "import glob\n",
    "from time import sleep\n",
    "from time import time\n",
    "if '../' not in sys.path:\n",
    "    sys.path.insert(0, '../')\n",
    "\n",
    "from modules.io import IO\n",
    "import matplotlib.pyplot as plt\n",
    "import numpy as np\n",
    "\n",
    "%reload_ext autoreload\n",
    "%autoreload 2\n",
    "%matplotlib inline"
   ]
  },
  {
   "cell_type": "code",
   "execution_count": 3,
   "metadata": {},
   "outputs": [],
   "source": [
    "control_slices = '/Volumes/bernasek_t5/pnt_manuscript/microscopy/yan_clones/control/slices/'\n",
    "mutant_slices = '/Volumes/bernasek_t5/pnt_manuscript/microscopy/yan_clones/perturbation/slices/'\n",
    "genotypes = os.listdir(control_slices)"
   ]
  },
  {
   "cell_type": "code",
   "execution_count": 13,
   "metadata": {},
   "outputs": [],
   "source": [
    "# def add_file(seg_path):\n",
    "#     io = IO()\n",
    "#     layer_paths = glob.glob(os.path.join(seg_path, '*[0-9]'))\n",
    "#     layer_paths = [p for p in layer_paths if os.path.isdir(p)]\n",
    "    \n",
    "#     for layer_path in layer_paths:\n",
    "#         layer_id = layer_path.rsplit('/', maxsplit=1)[-1]\n",
    "        \n",
    "#         # save metadata\n",
    "#         metadata = dict(layer_id=int(layer_id), bg='b')\n",
    "#         io.write_json(os.path.join(layer_path, 'layer_metadata.json'), metadata)\n",
    "\n",
    "def change_tif_path(seg_path):\n",
    "    io = IO()\n",
    "    \n",
    "    md_path = os.path.join(seg_path, 'metadata.json')\n",
    "    md = io.read_json(md_path)\n",
    "    \n",
    "    try:\n",
    "        old_path = md['path']\n",
    "        l,r = old_path.rsplit('/', maxsplit=1)\n",
    "        r = r.lstrip('control_perturbation')\n",
    "        \n",
    "        md['path'] = os.path.join(l, r)\n",
    "        io.write_json(md_path, md)\n",
    "        \n",
    "    except:\n",
    "        pass\n",
    "    \n",
    "    \n",
    "#     for layer_path in layer_paths:\n",
    "#         layer_id = layer_path.rsplit('/', maxsplit=1)[-1]\n",
    "        \n",
    "#         # save metadata\n",
    "#         metadata = dict(layer_id=int(layer_id), bg='b')\n",
    "#         io.write_json(os.path.join(layer_path, 'layer_metadata.json'), metadata)"
   ]
  },
  {
   "cell_type": "code",
   "execution_count": null,
   "metadata": {},
   "outputs": [],
   "source": []
  },
  {
   "cell_type": "code",
   "execution_count": null,
   "metadata": {},
   "outputs": [],
   "source": []
  },
  {
   "cell_type": "code",
   "execution_count": 14,
   "metadata": {},
   "outputs": [],
   "source": [
    "for genotype in os.listdir(control_slices)[::-1]:\n",
    "    experiment_path = os.path.join(control_slices, genotype)\n",
    "    seg_paths = glob.glob(os.path.join(experiment_path, '*[0-9]'))        \n",
    "    for seg_path in seg_paths:\n",
    "        change_tif_path(seg_path)\n",
    "        \n",
    "for genotype in os.listdir(mutant_slices):\n",
    "    experiment_path = os.path.join(mutant_slices, genotype)\n",
    "    seg_paths = glob.glob(os.path.join(experiment_path, '*[0-9]'))\n",
    "    for seg_path in seg_paths:\n",
    "        change_tif_path(seg_path)"
   ]
  },
  {
   "cell_type": "code",
   "execution_count": 15,
   "metadata": {},
   "outputs": [],
   "source": []
  },
  {
   "cell_type": "code",
   "execution_count": null,
   "metadata": {},
   "outputs": [],
   "source": []
  },
  {
   "cell_type": "code",
   "execution_count": null,
   "metadata": {},
   "outputs": [],
   "source": []
  },
  {
   "cell_type": "code",
   "execution_count": null,
   "metadata": {},
   "outputs": [],
   "source": []
  },
  {
   "cell_type": "code",
   "execution_count": null,
   "metadata": {},
   "outputs": [],
   "source": []
  },
  {
   "cell_type": "code",
   "execution_count": null,
   "metadata": {},
   "outputs": [],
   "source": []
  },
  {
   "cell_type": "code",
   "execution_count": 12,
   "metadata": {},
   "outputs": [],
   "source": [
    "# # controls\n",
    "# control_genotype = 'w-eyFLP_PntGFP_FRT40A_PntGFP_Ubi-mRFPnls_FRT40A'\n",
    "# overall_start = time()\n",
    "# logging.info('Starting genotype {:s}'.format(control_genotype))\n",
    "# experiment_path = os.path.join(control_slices, control_genotype)\n",
    "# stack_paths = glob.glob(os.path.join(experiment_path, 'control*[0-9].tif'))        \n",
    "# for stack_path in stack_paths:\n",
    "#     run(stack_path, save=True, **kw)\n",
    "# logging.info('Finished genotype {:s}'.format(control_genotype))\n",
    "\n",
    "# mutants\n",
    "mutant_genotype = 'w-eyFLP_PntGFP_YanE833_FRT40A_PntGFP_Ubi-mRFPnls_FRT40A'\n",
    "logging.info('Starting genotype {:s}'.format(mutant_genotype))\n",
    "experiment_path = os.path.join(mutant_slices, mutant_genotype)\n",
    "stack_paths = glob.glob(os.path.join(experiment_path, 'perturbation*[0-9].tif'))\n",
    "for stack_path in stack_paths[13:]:\n",
    "    run(stack_path, save=True, **kw)\n",
    "    gc.collect()\n",
    "    sleep(30)\n",
    "logging.info('Finished genotype {:s}'.format(mutant_genotype))\n",
    "logging.info('Finished all stacks.')"
   ]
  },
  {
   "cell_type": "code",
   "execution_count": 13,
   "metadata": {},
   "outputs": [
    {
     "name": "stdout",
     "output_type": "stream",
     "text": [
      "                       types |   # objects |   total size\n",
      "============================ | =========== | ============\n",
      "                 <class 'str |       96225 |     17.91 MB\n",
      "                <class 'dict |       16509 |     10.62 MB\n",
      "  <class '_io.BufferedWriter |           4 |      4.38 MB\n",
      "                <class 'code |       30480 |      4.19 MB\n",
      "                <class 'type |        3397 |      3.50 MB\n"
     ]
    }
   ],
   "source": [
    "from pympler import summary, muppy\n",
    "all_objects = muppy.get_objects()\n",
    "summarized = summary.summarize(all_objects)\n",
    "summarized = sorted(summarized, key=lambda x: x[-1], reverse=True)\n",
    "summary.print_(summarized[:20], limit=5) "
   ]
  },
  {
   "cell_type": "code",
   "execution_count": null,
   "metadata": {},
   "outputs": [],
   "source": []
  },
  {
   "cell_type": "code",
   "execution_count": null,
   "metadata": {},
   "outputs": [],
   "source": []
  },
  {
   "cell_type": "code",
   "execution_count": 8,
   "metadata": {},
   "outputs": [
    {
     "ename": "NameError",
     "evalue": "name 'muppy' is not defined",
     "output_type": "error",
     "traceback": [
      "\u001b[0;31m---------------------------------------------------------------------------\u001b[0m",
      "\u001b[0;31mNameError\u001b[0m                                 Traceback (most recent call last)",
      "\u001b[0;32m<ipython-input-8-ed92f1cdea2a>\u001b[0m in \u001b[0;36m<module>\u001b[0;34m()\u001b[0m\n\u001b[0;32m----> 1\u001b[0;31m \u001b[0mall_objects\u001b[0m \u001b[0;34m=\u001b[0m \u001b[0mmuppy\u001b[0m\u001b[0;34m.\u001b[0m\u001b[0mget_objects\u001b[0m\u001b[0;34m(\u001b[0m\u001b[0;34m)\u001b[0m\u001b[0;34m\u001b[0m\u001b[0m\n\u001b[0m\u001b[1;32m      2\u001b[0m \u001b[0msummarized\u001b[0m \u001b[0;34m=\u001b[0m \u001b[0msummary\u001b[0m\u001b[0;34m.\u001b[0m\u001b[0msummarize\u001b[0m\u001b[0;34m(\u001b[0m\u001b[0mall_objects\u001b[0m\u001b[0;34m)\u001b[0m\u001b[0;34m\u001b[0m\u001b[0m\n\u001b[1;32m      3\u001b[0m \u001b[0msummarized\u001b[0m \u001b[0;34m=\u001b[0m \u001b[0msorted\u001b[0m\u001b[0;34m(\u001b[0m\u001b[0msummarized\u001b[0m\u001b[0;34m,\u001b[0m \u001b[0mkey\u001b[0m\u001b[0;34m=\u001b[0m\u001b[0;32mlambda\u001b[0m \u001b[0mx\u001b[0m\u001b[0;34m:\u001b[0m \u001b[0mx\u001b[0m\u001b[0;34m[\u001b[0m\u001b[0;34m-\u001b[0m\u001b[0;36m1\u001b[0m\u001b[0;34m]\u001b[0m\u001b[0;34m,\u001b[0m \u001b[0mreverse\u001b[0m\u001b[0;34m=\u001b[0m\u001b[0;32mTrue\u001b[0m\u001b[0;34m)\u001b[0m\u001b[0;34m\u001b[0m\u001b[0m\n\u001b[1;32m      4\u001b[0m \u001b[0msummary\u001b[0m\u001b[0;34m.\u001b[0m\u001b[0mprint_\u001b[0m\u001b[0;34m(\u001b[0m\u001b[0msummarized\u001b[0m\u001b[0;34m[\u001b[0m\u001b[0;34m:\u001b[0m\u001b[0;36m20\u001b[0m\u001b[0;34m]\u001b[0m\u001b[0;34m,\u001b[0m \u001b[0mlimit\u001b[0m\u001b[0;34m=\u001b[0m\u001b[0;36m5\u001b[0m\u001b[0;34m)\u001b[0m\u001b[0;34m\u001b[0m\u001b[0m\n",
      "\u001b[0;31mNameError\u001b[0m: name 'muppy' is not defined"
     ]
    }
   ],
   "source": [
    "all_objects = muppy.get_objects()\n",
    "summarized = summary.summarize(all_objects)\n",
    "summarized = sorted(summarized, key=lambda x: x[-1], reverse=True)\n",
    "summary.print_(summarized[:20], limit=5) "
   ]
  }
 ],
 "metadata": {
  "kernelspec": {
   "display_name": "clones",
   "language": "python",
   "name": "clones"
  },
  "language_info": {
   "codemirror_mode": {
    "name": "ipython",
    "version": 3
   },
   "file_extension": ".py",
   "mimetype": "text/x-python",
   "name": "python",
   "nbconvert_exporter": "python",
   "pygments_lexer": "ipython3",
   "version": "3.6.4"
  }
 },
 "nbformat": 4,
 "nbformat_minor": 2
}
