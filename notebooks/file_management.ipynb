{
 "cells": [
  {
   "cell_type": "code",
   "execution_count": 2,
   "metadata": {},
   "outputs": [],
   "source": [
    "import sys, os\n",
    "import gc\n",
    "import glob\n",
    "from time import sleep\n",
    "from time import time\n",
    "if '../' not in sys.path:\n",
    "    sys.path.insert(0, '../')\n",
    "    \n",
    "import matplotlib.pyplot as plt\n",
    "import numpy as np\n",
    "\n",
    "%reload_ext autoreload\n",
    "%autoreload 2\n",
    "%matplotlib inline"
   ]
  },
  {
   "cell_type": "code",
   "execution_count": 3,
   "metadata": {},
   "outputs": [],
   "source": [
    "control_slices = '/Volumes/bernasek_t5/pnt_manuscript/microscopy/yan_clones/control/slices/'\n",
    "mutant_slices = '/Volumes/bernasek_t5/pnt_manuscript/microscopy/yan_clones/perturbation/slices/'"
   ]
  },
  {
   "cell_type": "code",
   "execution_count": null,
   "metadata": {},
   "outputs": [],
   "source": []
  },
  {
   "cell_type": "code",
   "execution_count": 11,
   "metadata": {},
   "outputs": [],
   "source": [
    "def format_name(path):\n",
    "    base, old_fname = path.rsplit('/', maxsplit=1)\n",
    "    fname = old_fname.lstrip('control_perturbation')\n",
    "    new_path = os.path.join(base, fname)\n",
    "    return new_path"
   ]
  },
  {
   "cell_type": "code",
   "execution_count": 12,
   "metadata": {},
   "outputs": [],
   "source": [
    "for genotype in os.listdir(control_slices)[::-1]:\n",
    "    experiment_path = os.path.join(control_slices, genotype)\n",
    "    stack_paths = glob.glob(os.path.join(experiment_path, 'control*[0-9].tif'))        \n",
    "    for stack_path in stack_paths:\n",
    "        #os.rename(stack_path, format_name(stack_path))\n",
    "        \n",
    "for genotype in os.listdir(mutant_slices):\n",
    "    experiment_path = os.path.join(mutant_slices, genotype)\n",
    "    stack_paths = glob.glob(os.path.join(experiment_path, 'perturbation*[0-9].tif'))\n",
    "    for stack_path in stack_paths:\n",
    "        #os.rename(stack_path, format_name(stack_path))"
   ]
  },
  {
   "cell_type": "code",
   "execution_count": null,
   "metadata": {},
   "outputs": [],
   "source": []
  },
  {
   "cell_type": "code",
   "execution_count": 4,
   "metadata": {},
   "outputs": [
    {
     "ename": "SyntaxError",
     "evalue": "unexpected EOF while parsing (<ipython-input-4-1ceaf67e52b1>, line 1)",
     "output_type": "error",
     "traceback": [
      "\u001b[0;36m  File \u001b[0;32m\"<ipython-input-4-1ceaf67e52b1>\"\u001b[0;36m, line \u001b[0;32m1\u001b[0m\n\u001b[0;31m    for genotype in os.listdir(control_slices)[::-1]:\u001b[0m\n\u001b[0m                                                     ^\u001b[0m\n\u001b[0;31mSyntaxError\u001b[0m\u001b[0;31m:\u001b[0m unexpected EOF while parsing\n"
     ]
    }
   ],
   "source": [
    "for genotype in os.listdir(control_slices)[::-1]:"
   ]
  },
  {
   "cell_type": "code",
   "execution_count": 34,
   "metadata": {},
   "outputs": [],
   "source": [
    "control_slices = '/Volumes/bernasek_t5/pnt_manuscript/microscopy/yan_clones/control/slices/'\n",
    "mutant_slices = '/Volumes/bernasek_t5/pnt_manuscript/microscopy/yan_clones/perturbation/slices/'"
   ]
  },
  {
   "cell_type": "code",
   "execution_count": 35,
   "metadata": {},
   "outputs": [],
   "source": [
    "mutant_genotype = 'w-eyFLP_PntGFP_YanE833_FRT40A_PntGFP_Ubi-mRFPnls_FRT40A'\n",
    "control_genotype = 'w-eyFLP_PntGFP_FRT40A_PntGFP_Ubi-mRFPnls_FRT40A'"
   ]
  },
  {
   "cell_type": "code",
   "execution_count": 38,
   "metadata": {},
   "outputs": [],
   "source": [
    "p = os.path.join(control_slices, control_genotype)\n",
    "selections_path = os.path.join(p, 'selections')\n",
    "\n",
    "for disc_dir in glob.glob(os.path.join(p, '*[0-9]')):\n",
    "\n",
    "    # make new directory for disc\n",
    "    base_path, disc_id = disc_dir.rsplit('/', maxsplit=1)    \n",
    "    new_disc_path = os.path.join(selections_path, disc_id)\n",
    "    if os.path.isdir(new_disc_path) == False:\n",
    "        os.mkdir(new_disc_path)\n",
    "    \n",
    "    for layer_dir in glob.glob(os.path.join(disc_dir, '*[0-9]')):\n",
    "        \n",
    "        # make new directory for layer\n",
    "        layer_id = layer_dir.rsplit('/', maxsplit=1)[-1]\n",
    "        new_layer_path = os.path.join(new_disc_path, layer_id)\n",
    "        \n",
    "        if os.path.isdir(new_layer_path) == False:\n",
    "            os.mkdir(new_layer_path)\n",
    "        \n",
    "        # copy files\n",
    "        selection = os.path.join(layer_dir, 'selection.npy')\n",
    "        selection_md = os.path.join(layer_dir, 'md.json')\n",
    "        new_selection = os.path.join(new_layer_path, 'selection.npy')\n",
    "        new_selection_md = os.path.join(new_layer_path, 'md.json')\n",
    "        copy(selection, new_selection)\n",
    "        copy(selection_md, new_selection_md)"
   ]
  },
  {
   "cell_type": "code",
   "execution_count": 25,
   "metadata": {},
   "outputs": [],
   "source": [
    "from shutil import copy"
   ]
  },
  {
   "cell_type": "code",
   "execution_count": 22,
   "metadata": {},
   "outputs": [],
   "source": []
  },
  {
   "cell_type": "code",
   "execution_count": null,
   "metadata": {},
   "outputs": [],
   "source": []
  },
  {
   "cell_type": "code",
   "execution_count": null,
   "metadata": {},
   "outputs": [],
   "source": []
  }
 ],
 "metadata": {
  "kernelspec": {
   "display_name": "clones",
   "language": "python",
   "name": "clones"
  },
  "language_info": {
   "codemirror_mode": {
    "name": "ipython",
    "version": 3
   },
   "file_extension": ".py",
   "mimetype": "text/x-python",
   "name": "python",
   "nbconvert_exporter": "python",
   "pygments_lexer": "ipython3",
   "version": "3.6.4"
  }
 },
 "nbformat": 4,
 "nbformat_minor": 2
}
