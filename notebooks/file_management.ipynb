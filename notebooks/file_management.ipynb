{
 "cells": [
  {
   "cell_type": "code",
   "execution_count": 1,
   "metadata": {},
   "outputs": [],
   "source": [
    "import sys, os\n",
    "import gc\n",
    "import glob\n",
    "from time import time\n",
    "if '../' not in sys.path:\n",
    "    sys.path.insert(0, '../')\n",
    "    \n",
    "import matplotlib.pyplot as plt\n",
    "import numpy as np\n",
    "\n",
    "%reload_ext autoreload\n",
    "%autoreload 2\n",
    "%matplotlib inline"
   ]
  },
  {
   "cell_type": "code",
   "execution_count": 4,
   "metadata": {},
   "outputs": [],
   "source": [
    "#control_slices = '/Volumes/bernasek_t5/pnt_manuscript/microscopy/yan_clones/control/slices/'\n",
    "#mutant_slices = '/Volumes/bernasek_t5/pnt_manuscript/microscopy/yan_clones/perturbation/slices/'"
   ]
  },
  {
   "cell_type": "code",
   "execution_count": 2,
   "metadata": {},
   "outputs": [],
   "source": [
    "control_path = '/Volumes/bernasek_t5/pnt_manuscript/microscopy/yan_clones/control/slices/w-eyFLP_PntGFP_FRT40A_PntGFP_Ubi-mRFPnls_FRT40A'\n",
    "mutant_path = '/Volumes/bernasek_t5/pnt_manuscript/microscopy/yan_clones/perturbation/slices/w-eyFLP_PntGFP_YanE833_FRT40A_PntGFP_Ubi-mRFPnls_FRT40A'"
   ]
  },
  {
   "cell_type": "code",
   "execution_count": 11,
   "metadata": {},
   "outputs": [],
   "source": [
    "def format_name(path):\n",
    "    base, old_fname = path.rsplit('/', maxsplit=1)\n",
    "    fname = old_fname.lstrip('control_perturbation')\n",
    "    new_path = os.path.join(base, fname)\n",
    "    return new_path"
   ]
  },
  {
   "cell_type": "code",
   "execution_count": 27,
   "metadata": {},
   "outputs": [],
   "source": [
    "from modules.io import IO\n",
    "\n",
    "def format_layers(stack_path):\n",
    "    io = IO()\n",
    "    \n",
    "    layer_paths = glob.glob(os.path.join(stack_path, '*[0-9]'))    \n",
    "    for layer_path in [p for p in layer_paths if os.path.isdir(p)]:\n",
    "        md = io.read_json(os.path.join(layer_path, 'layer_metadata.json'))\n",
    "        #md['params']\n",
    "        \n",
    "    return md\n",
    "\n",
    "def format_stack(stack_path):\n",
    "    io = IO()\n",
    "    md_path = os.path.join(stack_path, 'metadata.json')\n",
    "    md = io.read_json(md_path)\n",
    "    md['params']['annotation_kw']['weighted_by'] = md['params']['annotation_kw'].pop('channel')\n",
    "    io.write_json(md_path, md)"
   ]
  },
  {
   "cell_type": "code",
   "execution_count": 25,
   "metadata": {},
   "outputs": [],
   "source": [
    "adict = {'a':1, 'b':2}"
   ]
  },
  {
   "cell_type": "code",
   "execution_count": 26,
   "metadata": {},
   "outputs": [
    {
     "data": {
      "text/plain": [
       "{'b': 2, 'c': 1}"
      ]
     },
     "execution_count": 26,
     "metadata": {},
     "output_type": "execute_result"
    }
   ],
   "source": [
    "adict['c'] = adict.pop('a')\n",
    "adict"
   ]
  },
  {
   "cell_type": "code",
   "execution_count": 28,
   "metadata": {},
   "outputs": [],
   "source": [
    "for experiment_path in (control_path, mutant_path):\n",
    "    stack_paths = glob.glob(os.path.join(experiment_path, '*[0-9]'))\n",
    "    for stack_path in [p for p in stack_paths if os.path.isdir(p)]:\n",
    "        format_stack(stack_path)"
   ]
  },
  {
   "cell_type": "code",
   "execution_count": 29,
   "metadata": {},
   "outputs": [
    {
     "data": {
      "text/plain": [
       "{'path': '/Volumes/bernasek_t5/pnt_manuscript/microscopy/yan_clones/perturbation/slices/w-eyFLP_PntGFP_YanE833_FRT40A_PntGFP_Ubi-mRFPnls_FRT40A/53.tif',\n",
       " 'bits': 4096,\n",
       " 'params': {'segmentation_kw': {'preprocessing_kws': {'median_radius': 2,\n",
       "    'gaussian_sigma': [2, 2],\n",
       "    'clip_limit': 0.03,\n",
       "    'clip_factor': 20},\n",
       "   'seed_kws': {'sigma': 2, 'min_distance': 1},\n",
       "   'seg_kws': {},\n",
       "   'min_segment_area': 250},\n",
       "  'fg_kw': {'bandwidth': 100, 'n': 5},\n",
       "  'annotation_kw': {'q': 95,\n",
       "   'fg_only': True,\n",
       "   'log': True,\n",
       "   'weighted_by': 'r_normalized'}}}"
      ]
     },
     "execution_count": 29,
     "metadata": {},
     "output_type": "execute_result"
    }
   ],
   "source": [
    "io = IO()\n",
    "io.read_json(os.path.join(stack_path, 'metadata.json'))"
   ]
  },
  {
   "cell_type": "code",
   "execution_count": null,
   "metadata": {},
   "outputs": [],
   "source": []
  },
  {
   "cell_type": "code",
   "execution_count": null,
   "metadata": {},
   "outputs": [],
   "source": [
    "for genotype in os.listdir(control_slices)[::-1]:\n",
    "    experiment_path = os.path.join(control_slices, genotype)\n",
    "    stack_paths = glob.glob(os.path.join(experiment_path, '*[0-9]'))        \n",
    "    for stack_path in [p for p in stack_paths if os.path.isdir(p)]:\n",
    "        format_layers(stack_path)"
   ]
  },
  {
   "cell_type": "code",
   "execution_count": null,
   "metadata": {},
   "outputs": [],
   "source": []
  },
  {
   "cell_type": "code",
   "execution_count": 4,
   "metadata": {},
   "outputs": [
    {
     "ename": "SyntaxError",
     "evalue": "unexpected EOF while parsing (<ipython-input-4-1ceaf67e52b1>, line 1)",
     "output_type": "error",
     "traceback": [
      "\u001b[0;36m  File \u001b[0;32m\"<ipython-input-4-1ceaf67e52b1>\"\u001b[0;36m, line \u001b[0;32m1\u001b[0m\n\u001b[0;31m    for genotype in os.listdir(control_slices)[::-1]:\u001b[0m\n\u001b[0m                                                     ^\u001b[0m\n\u001b[0;31mSyntaxError\u001b[0m\u001b[0;31m:\u001b[0m unexpected EOF while parsing\n"
     ]
    }
   ],
   "source": []
  },
  {
   "cell_type": "code",
   "execution_count": 3,
   "metadata": {},
   "outputs": [],
   "source": [
    "control_slices = '/Volumes/bernasek_t5/pnt_manuscript/microscopy/yan_clones/control/slices/'\n",
    "mutant_slices = '/Volumes/bernasek_t5/pnt_manuscript/microscopy/yan_clones/perturbation/slices/'"
   ]
  },
  {
   "cell_type": "code",
   "execution_count": 4,
   "metadata": {},
   "outputs": [],
   "source": [
    "mutant_genotype = 'w-eyFLP_PntGFP_YanE833_FRT40A_PntGFP_Ubi-mRFPnls_FRT40A'\n",
    "control_genotype = 'w-eyFLP_PntGFP_FRT40A_PntGFP_Ubi-mRFPnls_FRT40A'"
   ]
  },
  {
   "cell_type": "code",
   "execution_count": 38,
   "metadata": {},
   "outputs": [],
   "source": [
    "p = os.path.join(control_slices, control_genotype)\n",
    "selections_path = os.path.join(p, 'selections')\n",
    "\n",
    "for disc_dir in glob.glob(os.path.join(p, '*[0-9]')):\n",
    "\n",
    "    # make new directory for disc\n",
    "    base_path, disc_id = disc_dir.rsplit('/', maxsplit=1)    \n",
    "    new_disc_path = os.path.join(selections_path, disc_id)\n",
    "    if os.path.isdir(new_disc_path) == False:\n",
    "        os.mkdir(new_disc_path)\n",
    "    \n",
    "    for layer_dir in glob.glob(os.path.join(disc_dir, '*[0-9]')):\n",
    "        \n",
    "        # make new directory for layer\n",
    "        layer_id = layer_dir.rsplit('/', maxsplit=1)[-1]\n",
    "        new_layer_path = os.path.join(new_disc_path, layer_id)\n",
    "        \n",
    "        if os.path.isdir(new_layer_path) == False:\n",
    "            os.mkdir(new_layer_path)\n",
    "        \n",
    "        # copy files\n",
    "        selection = os.path.join(layer_dir, 'selection.npy')\n",
    "        selection_md = os.path.join(layer_dir, 'md.json')\n",
    "        new_selection = os.path.join(new_layer_path, 'selection.npy')\n",
    "        new_selection_md = os.path.join(new_layer_path, 'md.json')\n",
    "        copy(selection, new_selection)\n",
    "        copy(selection_md, new_selection_md)"
   ]
  },
  {
   "cell_type": "code",
   "execution_count": 8,
   "metadata": {},
   "outputs": [],
   "source": [
    "from shutil import copy"
   ]
  },
  {
   "cell_type": "code",
   "execution_count": 22,
   "metadata": {},
   "outputs": [],
   "source": []
  },
  {
   "cell_type": "code",
   "execution_count": 12,
   "metadata": {},
   "outputs": [
    {
     "name": "stdout",
     "output_type": "stream",
     "text": [
      "0\n"
     ]
    }
   ],
   "source": [
    "p = os.path.join(mutant_slices, mutant_genotype)\n",
    "selections_path = os.path.join(p, 'selections')\n",
    "\n",
    "deletions = 0\n",
    "for disc_dir in glob.glob(os.path.join(p, '*[0-9]')):\n",
    "    for layer_dir in glob.glob(os.path.join(disc_dir, '*[0-9]')):\n",
    "        \n",
    "        p0 = os.path.join(layer_dir, 'bg_correction.json')\n",
    "        p1 = os.path.join(layer_dir, 'correction.json')\n",
    "        \n",
    "        for p in (p0, p1):\n",
    "            if os.path.exists(p):\n",
    "                os.remove(p)\n",
    "                deletions += 1\n",
    "print(deletions)"
   ]
  },
  {
   "cell_type": "code",
   "execution_count": null,
   "metadata": {},
   "outputs": [],
   "source": []
  },
  {
   "cell_type": "code",
   "execution_count": 6,
   "metadata": {},
   "outputs": [],
   "source": [
    "p = '/Users/Sebi/Documents/grad_school/research/pnt_expression/manuscript/shared/figures_082018/'"
   ]
  },
  {
   "cell_type": "code",
   "execution_count": 16,
   "metadata": {},
   "outputs": [],
   "source": [
    "for path in glob.glob(os.path.join(p, '*.png')):\n",
    "    b,_ = path.rsplit('-', maxsplit=1)\n",
    "    os.rename(path, b+'.png')"
   ]
  },
  {
   "cell_type": "code",
   "execution_count": null,
   "metadata": {},
   "outputs": [],
   "source": []
  },
  {
   "cell_type": "code",
   "execution_count": 4,
   "metadata": {},
   "outputs": [],
   "source": [
    "from modules.io import IO"
   ]
  },
  {
   "cell_type": "code",
   "execution_count": 16,
   "metadata": {},
   "outputs": [],
   "source": [
    "io = IO()\n",
    "for experiment_path in (control_path, mutant_path):\n",
    "    stack_paths = glob.glob(os.path.join(experiment_path, '*[0-9]'))\n",
    "    for stack_path in [p for p in stack_paths if os.path.isdir(p)]:\n",
    "        md_path = os.path.join(stack_path, 'metadata.json')\n",
    "        new_metadata = edit_metadata(io.read_json(md_path))\n",
    "        io.write_json(md_path, new_metadata)"
   ]
  },
  {
   "cell_type": "code",
   "execution_count": 14,
   "metadata": {},
   "outputs": [],
   "source": [
    "from copy import deepcopy\n",
    "def edit_metadata(old):\n",
    "    new = deepcopy(old)\n",
    "    new['params']['graph_kw'] = {k: v for k, v in old['params']['annotation_kw'].items() if k in ('q', 'weighted_by')}\n",
    "    new['params']['annotation_kw'] = {}\n",
    "    return new"
   ]
  },
  {
   "cell_type": "code",
   "execution_count": null,
   "metadata": {},
   "outputs": [],
   "source": []
  }
 ],
 "metadata": {
  "kernelspec": {
   "display_name": "clones",
   "language": "python",
   "name": "clones"
  },
  "language_info": {
   "codemirror_mode": {
    "name": "ipython",
    "version": 3
   },
   "file_extension": ".py",
   "mimetype": "text/x-python",
   "name": "python",
   "nbconvert_exporter": "python",
   "pygments_lexer": "ipython3",
   "version": "3.6.4"
  }
 },
 "nbformat": 4,
 "nbformat_minor": 2
}
