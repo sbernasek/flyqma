{
 "cells": [
  {
   "cell_type": "code",
   "execution_count": 1,
   "metadata": {},
   "outputs": [],
   "source": [
    "import sys, os\n",
    "if '..' not in sys.path:\n",
    "    sys.path.insert(0, '..')\n",
    "\n",
    "%reload_ext autoreload\n",
    "%autoreload 2\n",
    "%matplotlib inline"
   ]
  },
  {
   "cell_type": "code",
   "execution_count": 4,
   "metadata": {},
   "outputs": [],
   "source": [
    "from clones.annotation import validation"
   ]
  },
  {
   "cell_type": "code",
   "execution_count": 5,
   "metadata": {},
   "outputs": [
    {
     "data": {
      "text/plain": [
       "<module 'clones.annotation.validation' from '../clones/annotation/validation.py'>"
      ]
     },
     "execution_count": 5,
     "metadata": {},
     "output_type": "execute_result"
    }
   ],
   "source": [
    "validation.Scoring()"
   ]
  },
  {
   "cell_type": "code",
   "execution_count": null,
   "metadata": {},
   "outputs": [],
   "source": []
  },
  {
   "cell_type": "code",
   "execution_count": null,
   "metadata": {},
   "outputs": [],
   "source": []
  },
  {
   "cell_type": "code",
   "execution_count": null,
   "metadata": {},
   "outputs": [],
   "source": []
  },
  {
   "cell_type": "code",
   "execution_count": null,
   "metadata": {},
   "outputs": [],
   "source": []
  },
  {
   "cell_type": "code",
   "execution_count": null,
   "metadata": {},
   "outputs": [],
   "source": []
  },
  {
   "cell_type": "code",
   "execution_count": null,
   "metadata": {},
   "outputs": [],
   "source": []
  },
  {
   "cell_type": "code",
   "execution_count": null,
   "metadata": {},
   "outputs": [],
   "source": []
  },
  {
   "cell_type": "code",
   "execution_count": 70,
   "metadata": {},
   "outputs": [],
   "source": [
    "control_path = '/Users/Sebi/Documents/grad_school/research/pnt_expression/flyeye_suite/discs/np/control_clones/discs/'\n",
    "controls = {i: Silhouette(p) for i, p in enumerate(glob(os.path.join(control_path, '*.silhouette')))}\n",
    "\n",
    "perturbation_path = '/Users/Sebi/Documents/grad_school/research/pnt_expression/flyeye_suite/discs/np/yan_clones/discs/'\n",
    "mutants = {i: Silhouette(p) for i, p in enumerate(glob(os.path.join(perturbation_path, '*.silhouette')))}"
   ]
  },
  {
   "cell_type": "code",
   "execution_count": 97,
   "metadata": {},
   "outputs": [
    {
     "data": {
      "image/png": "[encoded data removed]",
      "text/plain": [
       "<Figure size 216x144 with 1 Axes>"
      ]
     },
     "metadata": {},
     "output_type": "display_data"
    },
    {
     "data": {
      "image/png": "[encoded data removed]",
      "text/plain": [
       "<Figure size 216x144 with 1 Axes>"
      ]
     },
     "metadata": {},
     "output_type": "display_data"
    }
   ],
   "source": [
    "# control_groups = {\n",
    "#     0: {0:0, 1:1, 2:1, 3:1, 4:2, 5:2, 6:2},\n",
    "#     1: {0:0, 1:1, 2:1, 3:1, 4:2, 5:2}}\n",
    "\n",
    "control_groups = {\n",
    "    0: {0:0, 1:1, 2:1, 3:2, 4:2},\n",
    "    1: {0:0, 1:1, 2:1, 3:2, 4:2}}\n",
    "\n",
    "_ = [s.annotate(control_groups[i]) for i, s in controls.items()]\n",
    "_ = [s.classifier.show() for s in controls.values()]"
   ]
  },
  {
   "cell_type": "code",
   "execution_count": 105,
   "metadata": {},
   "outputs": [
    {
     "data": {
      "image/png": "[encoded data removed]",
      "text/plain": [
       "<Figure size 216x144 with 1 Axes>"
      ]
     },
     "metadata": {},
     "output_type": "display_data"
    },
    {
     "data": {
      "image/png": "[encoded data removed]",
      "text/plain": [
       "<Figure size 216x144 with 1 Axes>"
      ]
     },
     "metadata": {},
     "output_type": "display_data"
    },
    {
     "data": {
      "image/png": "[encoded data removed]",
      "text/plain": [
       "<Figure size 216x144 with 1 Axes>"
      ]
     },
     "metadata": {},
     "output_type": "display_data"
    },
    {
     "data": {
      "image/png": "[encoded data removed]",
      "text/plain": [
       "<Figure size 216x144 with 1 Axes>"
      ]
     },
     "metadata": {},
     "output_type": "display_data"
    }
   ],
   "source": [
    "mutant_groups = {\n",
    "    0: {0:0, 1:1, 2:1, 3:2, 4:2},# 5:2, 6:2},\n",
    "    1: {0:0, 1:1, 2:1, 3:2, 4:2},# 5:2, 6:2}, \n",
    "    2: {0:0, 1:1, 2:1, 3:2, 4:2},# 5:2, 6:2},\n",
    "    3: {0:0, 1:1, 2:1, 3:2, 4:2}}# 5:2, 6:2}}\n",
    "\n",
    "_ = [s.annotate(mutant_groups[i]) for i, s in mutants.items()]\n",
    "_ = [s.classifier.show() for s in mutants.values()]"
   ]
  },
  {
   "cell_type": "code",
   "execution_count": 112,
   "metadata": {},
   "outputs": [
    {
     "data": {
      "text/plain": [
       "<modules.silhouette.ErrorMatrix at 0x127811f98>"
      ]
     },
     "execution_count": 112,
     "metadata": {},
     "output_type": "execute_result"
    }
   ],
   "source": []
  },
  {
   "cell_type": "code",
   "execution_count": 113,
   "metadata": {},
   "outputs": [
    {
     "name": "stdout",
     "output_type": "stream",
     "text": [
      "Control: 94.31% correct\n",
      "Mutant: 94.53% correct\n"
     ]
    },
    {
     "data": {
      "image/png": "[encoded data removed]",
      "text/plain": [
       "<Figure size 108x108 with 1 Axes>"
      ]
     },
     "metadata": {},
     "output_type": "display_data"
    },
    {
     "data": {
      "image/png": "[encoded data removed]",
      "text/plain": [
       "<Figure size 108x108 with 1 Axes>"
      ]
     },
     "metadata": {},
     "output_type": "display_data"
    }
   ],
   "source": [
    "# compile all scores\n",
    "control_scoring = reduce(add, [s.get_scoring() for s in controls.values()])\n",
    "control_scoring.score(text='counts', fontsize=7, figsize=(1.5, 1.5))\n",
    "print('Control: {:0.2%} correct'.format(control_scoring.percent_correct))\n",
    "control_scoring.matrix.save('control_classifier_scores')\n",
    "\n",
    "\n",
    "mutant_scoring = reduce(add, [s.get_scoring() for s in mutants.values()])\n",
    "mutant_scoring.score(text='counts', fontsize=7, figsize=(1.5, 1.5))\n",
    "print('Mutant: {:0.2%} correct'.format(mutant_scoring.percent_correct))\n",
    "mutant_scoring.matrix.save('perturbation_classifier_scores')\n",
    "\n"
   ]
  },
  {
   "cell_type": "code",
   "execution_count": 108,
   "metadata": {},
   "outputs": [
    {
     "name": "stdout",
     "output_type": "stream",
     "text": [
      "Overall: 94.48% correct\n"
     ]
    },
    {
     "data": {
      "image/png": "[encoded data removed]",
      "text/plain": [
       "<Figure size 108x108 with 1 Axes>"
      ]
     },
     "metadata": {},
     "output_type": "display_data"
    }
   ],
   "source": [
    "overall_scoring = control_scoring+mutant_scoring\n",
    "overall_scoring.score(text='counts', fontsize=7, figsize=(1.5, 1.5))\n",
    "print('Overall: {:0.2%} correct'.format(overall_scoring.percent_correct))"
   ]
  },
  {
   "cell_type": "code",
   "execution_count": 109,
   "metadata": {},
   "outputs": [],
   "source": [
    "overall_scoring.matrix.save()"
   ]
  },
  {
   "cell_type": "code",
   "execution_count": 130,
   "metadata": {},
   "outputs": [
    {
     "data": {
      "image/png": "[encoded data removed]",
      "text/plain": [
       "<Figure size 72x14.4 with 1 Axes>"
      ]
     },
     "metadata": {},
     "output_type": "display_data"
    }
   ],
   "source": [
    "fig, ax = plt.subplots(figsize=(1, .2))\n",
    "ax.axis('off')\n",
    "\n",
    "x = np.linspace(0, 1, 100).reshape(1, -1)\n",
    "\n",
    "\n",
    "ax.imshow(np.tile(x, (10, 1)), cmap=plt.cm.Reds)\n",
    "fig.savefig('colorbar.pdf', format='pdf', dpi=300, rasterized=True, transaprent=True)"
   ]
  },
  {
   "cell_type": "code",
   "execution_count": 124,
   "metadata": {},
   "outputs": [
    {
     "data": {
      "text/plain": [
       "(10, 100)"
      ]
     },
     "execution_count": 124,
     "metadata": {},
     "output_type": "execute_result"
    }
   ],
   "source": []
  },
  {
   "cell_type": "code",
   "execution_count": null,
   "metadata": {},
   "outputs": [],
   "source": []
  }
 ],
 "metadata": {
  "kernelspec": {
   "display_name": "clones",
   "language": "python",
   "name": "clones"
  },
  "language_info": {
   "codemirror_mode": {
    "name": "ipython",
    "version": 3
   },
   "file_extension": ".py",
   "mimetype": "text/x-python",
   "name": "python",
   "nbconvert_exporter": "python",
   "pygments_lexer": "ipython3",
   "version": "3.6.4"
  }
 },
 "nbformat": 4,
 "nbformat_minor": 2
}
