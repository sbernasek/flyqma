{
 "cells": [
  {
   "cell_type": "code",
   "execution_count": null,
   "metadata": {},
   "outputs": [],
   "source": [
    "from os.path import join\n",
    "from glob import glob\n",
    "from clones.validation.sweep import SweepBenchmark"
   ]
  },
  {
   "cell_type": "code",
   "execution_count": null,
   "metadata": {},
   "outputs": [],
   "source": [
    "path = '../../../data/synthetic/test/Sweep_190223_111023/'\n",
    "benchmarking = SweepBenchmark.load(path)"
   ]
  },
  {
   "cell_type": "code",
   "execution_count": null,
   "metadata": {},
   "outputs": [],
   "source": [
    "\"\"\" EDIT JOB FILE \"\"\"\n",
    "jobs_path = join(benchmarking.path, 'jobs')\n",
    "for filepath in glob(join(jobs_path, '[0-9]*.txt')):\n",
    "    \n",
    "    # read existing file contents\n",
    "    with open(filepath, 'r') as file:\n",
    "        infile = file.readlines()\n",
    "            \n",
    "    # remove [0-9]*.pkl\n",
    "    new_lines = [line.strip().rsplit('/', maxsplit=1)[0] for line in infile]\n",
    "    \n",
    "    # write new file contents\n",
    "    with open(filepath, 'w') as file: \n",
    "        file.writelines(new_lines)"
   ]
  },
  {
   "cell_type": "code",
   "execution_count": null,
   "metadata": {},
   "outputs": [],
   "source": [
    "\"\"\" RENAME BATCH FILE \"\"\"\n",
    "batches_path = join(benchmarking.path, 'batches')\n",
    "for filepath in glob(join(batches_path, '[0-9]')):\n",
    "    src = join(filepath, '{}.pkl'.format(filepath.rsplit('/', maxsplit=1)[-1]))\n",
    "    dst = join(filepath, 'batch.pkl')\n",
    "    move(src, dst)"
   ]
  },
  {
   "cell_type": "code",
   "execution_count": 1,
   "metadata": {},
   "outputs": [],
   "source": [
    "from glob import glob"
   ]
  },
  {
   "cell_type": "code",
   "execution_count": 6,
   "metadata": {},
   "outputs": [],
   "source": [
    "p = '../../../data/synthetic/sweeps/Sweep_181201_191516/benchmark/batches/'"
   ]
  },
  {
   "cell_type": "code",
   "execution_count": 9,
   "metadata": {},
   "outputs": [
    {
     "name": "stdout",
     "output_type": "stream",
     "text": [
      "../../../data/synthetic/sweeps/Sweep_181201_191516/benchmark/batches/9\n",
      "../../../data/synthetic/sweeps/Sweep_181201_191516/benchmark/batches/0\n",
      "../../../data/synthetic/sweeps/Sweep_181201_191516/benchmark/batches/11\n",
      "../../../data/synthetic/sweeps/Sweep_181201_191516/benchmark/batches/7\n",
      "../../../data/synthetic/sweeps/Sweep_181201_191516/benchmark/batches/6\n",
      "../../../data/synthetic/sweeps/Sweep_181201_191516/benchmark/batches/1\n",
      "../../../data/synthetic/sweeps/Sweep_181201_191516/benchmark/batches/10\n",
      "../../../data/synthetic/sweeps/Sweep_181201_191516/benchmark/batches/8\n",
      "../../../data/synthetic/sweeps/Sweep_181201_191516/benchmark/batches/4\n",
      "../../../data/synthetic/sweeps/Sweep_181201_191516/benchmark/batches/15\n",
      "../../../data/synthetic/sweeps/Sweep_181201_191516/benchmark/batches/3\n",
      "../../../data/synthetic/sweeps/Sweep_181201_191516/benchmark/batches/12\n",
      "../../../data/synthetic/sweeps/Sweep_181201_191516/benchmark/batches/2\n",
      "../../../data/synthetic/sweeps/Sweep_181201_191516/benchmark/batches/13\n",
      "../../../data/synthetic/sweeps/Sweep_181201_191516/benchmark/batches/5\n",
      "../../../data/synthetic/sweeps/Sweep_181201_191516/benchmark/batches/14\n"
     ]
    }
   ],
   "source": [
    "from os.path import join\n",
    "for filepath in glob(join(p, '[0-9]*')):\n",
    "    print(filepath)"
   ]
  },
  {
   "cell_type": "code",
   "execution_count": 18,
   "metadata": {},
   "outputs": [
    {
     "name": "stdout",
     "output_type": "stream",
     "text": [
      "batch.pkl\r\n"
     ]
    }
   ],
   "source": [
    "ls ../../../data/synthetic/landing/"
   ]
  },
  {
   "cell_type": "code",
   "execution_count": 10,
   "metadata": {},
   "outputs": [],
   "source": [
    "p = '../../../data/synthetic/sweeps/Sweep_181201_191516/benchmark/batches/'"
   ]
  },
  {
   "cell_type": "code",
   "execution_count": 16,
   "metadata": {},
   "outputs": [],
   "source": [
    "from clones.validation import BatchBenchmark"
   ]
  },
  {
   "cell_type": "code",
   "execution_count": 29,
   "metadata": {},
   "outputs": [],
   "source": [
    "p = '../../../data/synthetic/landing/'\n",
    "benchmark = BatchBenchmark.load(p)\n",
    "benchmark.graphs = None\n",
    "benchmark.save(p)"
   ]
  },
  {
   "cell_type": "code",
   "execution_count": null,
   "metadata": {},
   "outputs": [],
   "source": []
  },
  {
   "cell_type": "code",
   "execution_count": null,
   "metadata": {},
   "outputs": [],
   "source": []
  }
 ],
 "metadata": {
  "kernelspec": {
   "display_name": "clones",
   "language": "python",
   "name": "clones"
  },
  "language_info": {
   "codemirror_mode": {
    "name": "ipython",
    "version": 3
   },
   "file_extension": ".py",
   "mimetype": "text/x-python",
   "name": "python",
   "nbconvert_exporter": "python",
   "pygments_lexer": "ipython3",
   "version": "3.6.4"
  }
 },
 "nbformat": 4,
 "nbformat_minor": 2
}
