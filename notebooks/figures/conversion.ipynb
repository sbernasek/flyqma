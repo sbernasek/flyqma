{
 "cells": [
  {
   "cell_type": "code",
   "execution_count": 1,
   "metadata": {},
   "outputs": [],
   "source": [
    "import sys, flyqma\n",
    "sys.modules['clones'] = flyqma\n",
    "\n",
    "from os.path import join\n",
    "import numpy as np\n",
    "import matplotlib.pyplot as plt\n",
    "from flyqma.visualization.settings import *\n",
    "%matplotlib inline"
   ]
  },
  {
   "cell_type": "code",
   "execution_count": 2,
   "metadata": {},
   "outputs": [],
   "source": [
    "from flyqma.data import Experiment\n",
    "experiment_path = '../../../data/published/real'\n",
    "experiment = Experiment(experiment_path)"
   ]
  },
  {
   "cell_type": "code",
   "execution_count": 49,
   "metadata": {},
   "outputs": [],
   "source": [
    "def rename_layer(layer):\n",
    "\n",
    "    for i, ch in enumerate('bgr'):\n",
    "        for base in ('', '_std', '_radial', '_zscore', '_community', '_normalized', '_predicted', 'c', 'c_normalized'):\n",
    "            OLD_NAME = ch + base\n",
    "            NEW_NAME = 'ch' + str(i) + base\n",
    "            \n",
    "            try:\n",
    "                if OLD_NAME in layer.data.columns:\n",
    "                    layer.data.rename({OLD_NAME: NEW_NAME}, axis='columns', inplace=True)\n",
    "            except:\n",
    "                pass\n",
    "                \n",
    "            try:\n",
    "                if OLD_NAME in layer.measurements.columns:\n",
    "                    layer.measurements.rename({OLD_NAME: NEW_NAME}, axis='columns', inplace=True)\n",
    "            except:\n",
    "                pass\n",
    "\n",
    "        keydict = {v:'ch'+str(k) for k,v in dict(enumerate('bgr')).items()}\n",
    "        \n",
    "        try:\n",
    "            if layer.metadata['bg'] in keydict.keys():\n",
    "                layer.metadata['bg'] = keydict[layer.metadata['bg']]\n",
    "        except:\n",
    "            pass\n",
    "        \n",
    "        try:\n",
    "            if 'graph_weighted_by' in layer.metadata['params'].keys():\n",
    "                parts = layer.metadata['params']['graph_weighted_by'].split('_')\n",
    "                if parts[0] in keydict.keys():        \n",
    "                    parts[0] = keydict[parts[0]]\n",
    "                    layer.metadata['params']['graph_weighted_by'] = '_'.join(parts)\n",
    "        except:\n",
    "            pass\n",
    "\n",
    "        try:\n",
    "            if layer.annotator.attribute in keydict.keys():\n",
    "                layer.annotator.attribute = keydict[layer.annotator.attribute]\n",
    "        except:\n",
    "            pass\n",
    "        \n",
    "        try:\n",
    "            for j, attr in enumerate(layer.annotator.classifier.attribute):\n",
    "\n",
    "                parts = attr.split('_')\n",
    "                if parts[0] in keydict.keys():\n",
    "                    parts[0] = keydict[parts[0]]\n",
    "                    layer.annotator.classifier.attribute[j] = '_'.join(parts)\n",
    "                    layer.annotator.classifier.parameters['attribute'][j] = '_'.join(parts)\n",
    "        except:\n",
    "            pass\n",
    "\n",
    "        \n",
    "def convert(stack):\n",
    "    for layer_id in range(stack.depth):\n",
    "        layer = stack[layer_id]\n",
    "        rename_layer(layer)\n",
    "        if layer.include:\n",
    "            layer.save(annotator=True)\n",
    "    stack.save()\n",
    "    stack.save_annotator()"
   ]
  },
  {
   "cell_type": "code",
   "execution_count": 52,
   "metadata": {},
   "outputs": [],
   "source": [
    "for stack_id in experiment.stack_ids:\n",
    "    stack = experiment.load_stack(stack_id, full=True)\n",
    "    convert(stack)"
   ]
  }
 ],
 "metadata": {
  "kernelspec": {
   "display_name": "clones",
   "language": "python",
   "name": "clones"
  },
  "language_info": {
   "codemirror_mode": {
    "name": "ipython",
    "version": 3
   },
   "file_extension": ".py",
   "mimetype": "text/x-python",
   "name": "python",
   "nbconvert_exporter": "python",
   "pygments_lexer": "ipython3",
   "version": "3.6.4"
  }
 },
 "nbformat": 4,
 "nbformat_minor": 2
}
