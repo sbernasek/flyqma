{
 "cells": [
  {
   "cell_type": "code",
   "execution_count": 1,
   "metadata": {},
   "outputs": [],
   "source": [
    "from time import time\n",
    "from clones.data.experiments import Experiment"
   ]
  },
  {
   "cell_type": "markdown",
   "metadata": {},
   "source": [
    "### Load experiment"
   ]
  },
  {
   "cell_type": "code",
   "execution_count": 4,
   "metadata": {},
   "outputs": [],
   "source": [
    "# load experiment\n",
    "experiment = Experiment('../../../data/drosophila/')"
   ]
  },
  {
   "cell_type": "markdown",
   "metadata": {},
   "source": [
    "### Train annotator on each stack (save it)"
   ]
  },
  {
   "cell_type": "code",
   "execution_count": null,
   "metadata": {
    "scrolled": false
   },
   "outputs": [],
   "source": [
    "start = time()\n",
    "for stack_id in (28, 29, 30, 31, 55, 56):\n",
    "    stack = experiment.load_stack(stack_id, True)\n",
    "    stack.train_annotator('r_normalized', save=True, sampler_type='radial', sampler_kwargs=dict(depth=1.), max_num_components=15)\n",
    "    print('Finished stack {:d} at {:0.2f}'.format(stack_id, time()-start))\n",
    "stop = time()\n",
    "print(stop-start)"
   ]
  },
  {
   "cell_type": "markdown",
   "metadata": {},
   "source": [
    "### Apply trained annotator to each stack"
   ]
  },
  {
   "cell_type": "code",
   "execution_count": null,
   "metadata": {},
   "outputs": [],
   "source": [
    "for stack_id in (28, 29, 30, 31, 55, 56):\n",
    "    stack = experiment.load_stack(stack_id, True)\n",
    "    for layer_id in stack.included:\n",
    "        layer = stack.load_layer(layer_id, process=True, graph=True)\n",
    "        layer.apply_annotation(label='genotype_imap', sampler_type='community', sampler_kwargs=dict(depth=1.))\n",
    "        layer.save(processed_data=True)        \n",
    "    print(stack_id, 'done')"
   ]
  }
 ],
 "metadata": {
  "kernelspec": {
   "display_name": "clones",
   "language": "python",
   "name": "clones"
  },
  "language_info": {
   "codemirror_mode": {
    "name": "ipython",
    "version": 3
   },
   "file_extension": ".py",
   "mimetype": "text/x-python",
   "name": "python",
   "nbconvert_exporter": "python",
   "pygments_lexer": "ipython3",
   "version": "3.6.4"
  }
 },
 "nbformat": 4,
 "nbformat_minor": 2
}
