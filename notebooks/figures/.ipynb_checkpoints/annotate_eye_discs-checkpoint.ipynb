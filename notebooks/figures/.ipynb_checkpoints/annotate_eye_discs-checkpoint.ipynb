{
 "cells": [
  {
   "cell_type": "code",
   "execution_count": 1,
   "metadata": {},
   "outputs": [],
   "source": [
    "from time import time\n",
    "from clones.data.experiments import Experiment"
   ]
  },
  {
   "cell_type": "markdown",
   "metadata": {},
   "source": [
    "### Load experiment"
   ]
  },
  {
   "cell_type": "code",
   "execution_count": 2,
   "metadata": {},
   "outputs": [],
   "source": [
    "# load experiment\n",
    "experiment = Experiment('../../../data/drosophila/')"
   ]
  },
  {
   "cell_type": "markdown",
   "metadata": {},
   "source": [
    "### Train annotator on each stack (save it)"
   ]
  },
  {
   "cell_type": "code",
   "execution_count": 4,
   "metadata": {
    "scrolled": false
   },
   "outputs": [
    {
     "name": "stdout",
     "output_type": "stream",
     "text": [
      "Finished stack 28 at 145.92\n",
      "Finished stack 29 at 407.59\n",
      "Finished stack 30 at 613.78\n",
      "Finished stack 31 at 707.00\n",
      "Finished stack 55 at 954.72\n",
      "Finished stack 56 at 1121.86\n",
      "1121.8556010723114\n"
     ]
    }
   ],
   "source": [
    "start = time()\n",
    "for stack_id in (28, 29, 30, 31, 55, 56):\n",
    "    stack = experiment.load_stack(stack_id, True)\n",
    "    stack.train_annotator('r', save=True, sampler_type='radial', sampler_kwargs=dict(depth=1.), max_num_components=15)\n",
    "    print('Finished stack {:d} at {:0.2f}'.format(stack_id, time()-start))\n",
    "stop = time()\n",
    "print(stop-start)"
   ]
  },
  {
   "cell_type": "markdown",
   "metadata": {},
   "source": [
    "### Apply annotator to each stack (save results)"
   ]
  },
  {
   "cell_type": "code",
   "execution_count": 5,
   "metadata": {},
   "outputs": [
    {
     "name": "stdout",
     "output_type": "stream",
     "text": [
      "28 done\n",
      "29 done\n",
      "30 done\n",
      "31 done\n",
      "55 done\n",
      "56 done\n"
     ]
    }
   ],
   "source": [
    "for stack_id in (28, 29, 30, 31, 55, 56):\n",
    "    stack = experiment.load_stack(stack_id, True)\n",
    "    for layer_id in range(stack.depth):\n",
    "        layer = stack.load_layer(layer_id, process=True)\n",
    "        layer.save(processed_data=True)        \n",
    "    print(stack_id, 'done')"
   ]
  }
 ],
 "metadata": {
  "kernelspec": {
   "display_name": "clones",
   "language": "python",
   "name": "clones"
  },
  "language_info": {
   "codemirror_mode": {
    "name": "ipython",
    "version": 3
   },
   "file_extension": ".py",
   "mimetype": "text/x-python",
   "name": "python",
   "nbconvert_exporter": "python",
   "pygments_lexer": "ipython3",
   "version": "3.6.4"
  }
 },
 "nbformat": 4,
 "nbformat_minor": 2
}
