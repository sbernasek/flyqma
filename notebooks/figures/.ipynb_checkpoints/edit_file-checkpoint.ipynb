{
 "cells": [
  {
   "cell_type": "code",
   "execution_count": null,
   "metadata": {},
   "outputs": [],
   "source": [
    "from os.path import join\n",
    "from glob import glob\n",
    "from clones.validation.sweep import SweepBenchmark"
   ]
  },
  {
   "cell_type": "code",
   "execution_count": null,
   "metadata": {},
   "outputs": [],
   "source": [
    "path = '../../../data/synthetic/test/Sweep_190223_111023/'\n",
    "benchmarking = SweepBenchmark.load(path)"
   ]
  },
  {
   "cell_type": "code",
   "execution_count": null,
   "metadata": {},
   "outputs": [],
   "source": [
    "\"\"\" EDIT JOB FILE \"\"\"\n",
    "jobs_path = join(benchmarking.path, 'jobs')\n",
    "for filepath in glob(join(jobs_path, '[0-9]*.txt')):\n",
    "    \n",
    "    # read existing file contents\n",
    "    with open(filepath, 'r') as file:\n",
    "        infile = file.readlines()\n",
    "            \n",
    "    # remove [0-9]*.pkl\n",
    "    new_lines = [line.strip().rsplit('/', maxsplit=1)[0] for line in infile]\n",
    "    \n",
    "    # write new file contents\n",
    "    with open(filepath, 'w') as file: \n",
    "        file.writelines(new_lines)"
   ]
  },
  {
   "cell_type": "code",
   "execution_count": null,
   "metadata": {},
   "outputs": [],
   "source": [
    "\"\"\" RENAME BATCH FILE \"\"\"\n",
    "batches_path = join(benchmarking.path, 'batches')\n",
    "for filepath in glob(join(batches_path, '[0-9]')):\n",
    "    src = join(filepath, '{}.pkl'.format(filepath.rsplit('/', maxsplit=1)[-1]))\n",
    "    dst = join(filepath, 'batch.pkl')\n",
    "    move(src, dst)"
   ]
  }
 ],
 "metadata": {
  "kernelspec": {
   "display_name": "clones",
   "language": "python",
   "name": "clones"
  },
  "language_info": {
   "codemirror_mode": {
    "name": "ipython",
    "version": 3
   },
   "file_extension": ".py",
   "mimetype": "text/x-python",
   "name": "python",
   "nbconvert_exporter": "python",
   "pygments_lexer": "ipython3",
   "version": "3.6.4"
  }
 },
 "nbformat": 4,
 "nbformat_minor": 2
}
