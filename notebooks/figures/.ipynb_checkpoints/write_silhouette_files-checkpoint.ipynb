{
 "cells": [
  {
   "cell_type": "code",
   "execution_count": 1,
   "metadata": {},
   "outputs": [],
   "source": [
    "from clones.data.experiments import Experiment"
   ]
  },
  {
   "cell_type": "markdown",
   "metadata": {},
   "source": [
    "# Load an image stack and write it to Silhouette format"
   ]
  },
  {
   "cell_type": "code",
   "execution_count": 32,
   "metadata": {},
   "outputs": [],
   "source": [
    "stack_id = 4\n",
    "\n",
    "# load experiment\n",
    "experiment = Experiment('../../../data/drosophila/')\n",
    "\n",
    "# load image stack\n",
    "stack = experiment.load_stack(experiment.stack_ids[stack_id], full=True)\n",
    "\n",
    "# write to silhouette\n",
    "#_ = stack.write_silhouette()"
   ]
  }
 ],
 "metadata": {
  "kernelspec": {
   "display_name": "clones",
   "language": "python",
   "name": "clones"
  },
  "language_info": {
   "codemirror_mode": {
    "name": "ipython",
    "version": 3
   },
   "file_extension": ".py",
   "mimetype": "text/x-python",
   "name": "python",
   "nbconvert_exporter": "python",
   "pygments_lexer": "ipython3",
   "version": "3.6.4"
  }
 },
 "nbformat": 4,
 "nbformat_minor": 2
}
