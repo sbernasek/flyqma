{
 "cells": [
  {
   "cell_type": "code",
   "execution_count": 1,
   "metadata": {},
   "outputs": [],
   "source": [
    "from os.path import join\n",
    "import numpy as np\n",
    "import matplotlib.pyplot as plt\n",
    "%matplotlib inline\n",
    "\n",
    "from clones.data.experiments import Experiment"
   ]
  },
  {
   "cell_type": "markdown",
   "metadata": {},
   "source": [
    "# Load microscopy data\n",
    "\n",
    "Confocal images are of a bleedthrough control experiment consisting of three color channels:\n",
    "   - BLUE: Nuclear stain\n",
    "   - RED: Clonal marker\n",
    "   - GREEN: Control reporter (expressed equally within a vertical stripe of cells near the furrow)\n",
    "   \n",
    "We will use the first layer of the 4th stack as an example."
   ]
  },
  {
   "cell_type": "code",
   "execution_count": null,
   "metadata": {},
   "outputs": [],
   "source": [
    "# load experiment\n",
    "experiment = Experiment('../../../data/drosophila/')"
   ]
  },
  {
   "cell_type": "code",
   "execution_count": 25,
   "metadata": {},
   "outputs": [],
   "source": [
    "stack_id = 4\n",
    "\n",
    "# load image stack\n",
    "stack = experiment.load_stack(experiment.stack_ids[stack_id], full=True)"
   ]
  },
  {
   "cell_type": "markdown",
   "metadata": {},
   "source": [
    "# Write Silhouette file"
   ]
  },
  {
   "cell_type": "code",
   "execution_count": 19,
   "metadata": {},
   "outputs": [
    {
     "name": "stdout",
     "output_type": "stream",
     "text": [
      "26.000788927078247\n"
     ]
    }
   ],
   "source": [
    "from time import time\n",
    "start = time()\n",
    "#_ = stack.write_silhouette()\n",
    "stop = time()\n",
    "print(stop-start)"
   ]
  }
 ],
 "metadata": {
  "kernelspec": {
   "display_name": "clones",
   "language": "python",
   "name": "clones"
  },
  "language_info": {
   "codemirror_mode": {
    "name": "ipython",
    "version": 3
   },
   "file_extension": ".py",
   "mimetype": "text/x-python",
   "name": "python",
   "nbconvert_exporter": "python",
   "pygments_lexer": "ipython3",
   "version": "3.6.4"
  }
 },
 "nbformat": 4,
 "nbformat_minor": 2
}
