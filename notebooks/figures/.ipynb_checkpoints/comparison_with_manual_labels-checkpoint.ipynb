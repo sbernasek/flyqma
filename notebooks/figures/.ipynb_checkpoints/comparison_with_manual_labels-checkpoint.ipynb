{
 "cells": [
  {
   "cell_type": "code",
   "execution_count": 23,
   "metadata": {},
   "outputs": [],
   "source": [
    "from os.path import join\n",
    "from time import time\n",
    "import numpy as np\n",
    "import matplotlib.pyplot as plt\n",
    "from clones.data.experiments import Experiment\n",
    "from clones.validation.scoring import Scoring\n",
    "\n",
    "%matplotlib inline"
   ]
  },
  {
   "cell_type": "code",
   "execution_count": 16,
   "metadata": {},
   "outputs": [],
   "source": [
    "figsize = (2, 2)\n",
    "savedir = '../../../figures/graphics/real_data/'\n",
    "savefig = lambda fig, name: fig.savefig(join(savedir, '{:s}.pdf'.format(name)), dpi=400, \n",
    "                                        rasterized=True, transparent=True, bbox_inches='tight')"
   ]
  },
  {
   "cell_type": "markdown",
   "metadata": {},
   "source": [
    "### Load experiment"
   ]
  },
  {
   "cell_type": "code",
   "execution_count": 17,
   "metadata": {},
   "outputs": [],
   "source": [
    "# load experiment\n",
    "experiment = Experiment('../../../data/drosophila/')"
   ]
  },
  {
   "cell_type": "markdown",
   "metadata": {},
   "source": [
    "### Load annotated data\n",
    "\n",
    "Automatically assigned labels are stored under the `genotype` key while manual labels are stored under a `manual_label` key."
   ]
  },
  {
   "cell_type": "code",
   "execution_count": 20,
   "metadata": {},
   "outputs": [],
   "source": [
    "data = experiment.aggregate_measurements(selected_only=True, exclude_boundary=False)\n",
    "data = data[~data.manual_label.isna()]"
   ]
  },
  {
   "cell_type": "code",
   "execution_count": 21,
   "metadata": {},
   "outputs": [],
   "source": [
    "boundary_data = data[data.boundary]\n",
    "interior_data = data[~data.boundary]"
   ]
  },
  {
   "cell_type": "markdown",
   "metadata": {},
   "source": [
    "### Assess scores for all points"
   ]
  },
  {
   "cell_type": "code",
   "execution_count": 24,
   "metadata": {},
   "outputs": [
    {
     "name": "stdout",
     "output_type": "stream",
     "text": [
      "0.9052264808362369\n"
     ]
    },
    {
     "data": {
      "image/png": "[encoded data removed]",
      "text/plain": [
       "<Figure size 144x90 with 1 Axes>"
      ]
     },
     "metadata": {},
     "output_type": "display_data"
    },
    {
     "data": {
      "image/png": "[encoded data removed]",
      "text/plain": [
       "<Figure size 144x144 with 1 Axes>"
      ]
     },
     "metadata": {},
     "output_type": "display_data"
    }
   ],
   "source": [
    "scores = Scoring(data.manual_label, data.genotype_imap)\n",
    "scores.plot_label_distribution(legend=True)\n",
    "savefig(plt.gcf(), 'label_distribution')\n",
    "\n",
    "scores.plot_matrix()\n",
    "savefig(plt.gcf(), 'scores')\n",
    "\n",
    "print(scores.percent_correct)"
   ]
  },
  {
   "cell_type": "code",
   "execution_count": 25,
   "metadata": {},
   "outputs": [
    {
     "data": {
      "text/plain": [
       "stack  layer\n",
       "28     0        0.930612\n",
       "       2        0.952663\n",
       "29     0        0.912698\n",
       "       1        0.951705\n",
       "30     0        0.671533\n",
       "31     0        0.824921\n",
       "55     0        0.961844\n",
       "56     0        0.991202\n",
       "       1        0.952043\n",
       "Name: correct, dtype: float64"
      ]
     },
     "execution_count": 25,
     "metadata": {},
     "output_type": "execute_result"
    }
   ],
   "source": [
    "scores.percent_correct_per_layer"
   ]
  },
  {
   "cell_type": "markdown",
   "metadata": {},
   "source": [
    "### Assess scores for interior points"
   ]
  },
  {
   "cell_type": "code",
   "execution_count": 26,
   "metadata": {},
   "outputs": [
    {
     "name": "stdout",
     "output_type": "stream",
     "text": [
      "0.952124072825354\n"
     ]
    },
    {
     "data": {
      "image/png": "[encoded data removed]",
      "text/plain": [
       "<Figure size 144x90 with 1 Axes>"
      ]
     },
     "metadata": {},
     "output_type": "display_data"
    },
    {
     "data": {
      "image/png": "[encoded data removed]",
      "text/plain": [
       "<Figure size 144x144 with 1 Axes>"
      ]
     },
     "metadata": {},
     "output_type": "display_data"
    }
   ],
   "source": [
    "from clones.validation.scoring import Scoring\n",
    "interior_scores = Scoring(interior_data.manual_label, interior_data.genotype_imap)\n",
    "interior_scores.plot_label_distribution(legend=True)\n",
    "savefig(plt.gcf(), 'label_distribution_interior')\n",
    "\n",
    "interior_scores.plot_matrix()\n",
    "savefig(plt.gcf(), 'scores_interior')\n",
    "\n",
    "print(interior_scores.percent_correct)"
   ]
  },
  {
   "cell_type": "code",
   "execution_count": 27,
   "metadata": {},
   "outputs": [
    {
     "data": {
      "text/plain": [
       "stack  layer\n",
       "28     0        0.973294\n",
       "       2        0.973475\n",
       "29     0        0.990783\n",
       "       1        0.983539\n",
       "30     0        0.755906\n",
       "31     0        0.892308\n",
       "55     0        1.000000\n",
       "56     0        0.993377\n",
       "       1        0.975169\n",
       "Name: correct, dtype: float64"
      ]
     },
     "execution_count": 27,
     "metadata": {},
     "output_type": "execute_result"
    }
   ],
   "source": [
    "interior_scores.percent_correct_per_layer"
   ]
  },
  {
   "cell_type": "markdown",
   "metadata": {},
   "source": [
    "### Assess scores for boundary points"
   ]
  },
  {
   "cell_type": "code",
   "execution_count": 22,
   "metadata": {},
   "outputs": [
    {
     "name": "stdout",
     "output_type": "stream",
     "text": [
      "0.80134428678118\n"
     ]
    },
    {
     "data": {
      "image/png": "[encoded data removed]",
      "text/plain": [
       "<Figure size 144x90 with 1 Axes>"
      ]
     },
     "metadata": {},
     "output_type": "display_data"
    },
    {
     "data": {
      "image/png": "[encoded data removed]",
      "text/plain": [
       "<Figure size 144x144 with 1 Axes>"
      ]
     },
     "metadata": {},
     "output_type": "display_data"
    }
   ],
   "source": [
    "from clones.validation.scoring import Scoring\n",
    "boundary_scores = Scoring(boundary_data.manual_label, boundary_data.genotype_imap)\n",
    "boundary_scores.plot_label_distribution(legend=True)\n",
    "boundary_scores.plot_matrix()\n",
    "print(boundary_scores.percent_correct)"
   ]
  },
  {
   "cell_type": "code",
   "execution_count": 23,
   "metadata": {},
   "outputs": [
    {
     "data": {
      "text/plain": [
       "stack  layer\n",
       "28     0        0.836601\n",
       "       2        0.892308\n",
       "29     0        0.807453\n",
       "       1        0.880734\n",
       "30     0        0.535032\n",
       "31     0        0.717213\n",
       "55     0        0.893805\n",
       "56     0        0.974359\n",
       "       1        0.866667\n",
       "Name: correct, dtype: float64"
      ]
     },
     "execution_count": 23,
     "metadata": {},
     "output_type": "execute_result"
    }
   ],
   "source": [
    "boundary_scores.percent_correct_per_layer"
   ]
  },
  {
   "cell_type": "code",
   "execution_count": null,
   "metadata": {},
   "outputs": [],
   "source": []
  }
 ],
 "metadata": {
  "kernelspec": {
   "display_name": "clones",
   "language": "python",
   "name": "clones"
  },
  "language_info": {
   "codemirror_mode": {
    "name": "ipython",
    "version": 3
   },
   "file_extension": ".py",
   "mimetype": "text/x-python",
   "name": "python",
   "nbconvert_exporter": "python",
   "pygments_lexer": "ipython3",
   "version": "3.6.4"
  }
 },
 "nbformat": 4,
 "nbformat_minor": 2
}
