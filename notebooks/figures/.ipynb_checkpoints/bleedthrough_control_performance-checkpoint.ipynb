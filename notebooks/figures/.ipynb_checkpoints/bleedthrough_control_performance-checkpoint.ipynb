{
 "cells": [
  {
   "cell_type": "code",
   "execution_count": 66,
   "metadata": {},
   "outputs": [],
   "source": [
    "from os.path import join\n",
    "from time import time\n",
    "import numpy as np\n",
    "import matplotlib.pyplot as plt\n",
    "from clones.data.experiments import Experiment\n",
    "\n",
    "%matplotlib inline"
   ]
  },
  {
   "cell_type": "code",
   "execution_count": 67,
   "metadata": {},
   "outputs": [],
   "source": [
    "figsize = (2, 2)\n",
    "savedir = '../../../figures/graphics/real_data/'\n",
    "savefig = lambda fig, name: fig.savefig(join(savedir, '{:s}.pdf'.format(name)), dpi=400, \n",
    "                                        rasterized=True, transparent=True, bbox_inches='tight')"
   ]
  },
  {
   "cell_type": "markdown",
   "metadata": {},
   "source": [
    "### Load experiment"
   ]
  },
  {
   "cell_type": "code",
   "execution_count": 68,
   "metadata": {},
   "outputs": [],
   "source": [
    "# load experiment\n",
    "experiment = Experiment('../../../data/drosophila/')"
   ]
  },
  {
   "cell_type": "markdown",
   "metadata": {},
   "source": [
    "### Load annotated data\n",
    "\n",
    "Automatically assigned labels are stored under the `genotype` key while manual labels are stored under a `manual_label` key."
   ]
  },
  {
   "cell_type": "code",
   "execution_count": 69,
   "metadata": {},
   "outputs": [],
   "source": [
    "data = experiment.aggregate_measurements(selected_only=True, exclude_boundary=True)\n",
    "#data = data[~data.manual_label.isna()]"
   ]
  },
  {
   "cell_type": "markdown",
   "metadata": {},
   "source": [
    "### Compare fluorescence levels between clones"
   ]
  },
  {
   "cell_type": "code",
   "execution_count": 70,
   "metadata": {},
   "outputs": [],
   "source": [
    "from clones.analysis.statistics import CloneComparison\n",
    "\n",
    "def clones_figure(data, type1=0, type2=1, label='genotype', **kwargs):\n",
    "    \n",
    "    # create figure/axes\n",
    "    fig, (ax0, ax1, ax2) = plt.subplots(ncols=3, figsize=(4, 1.25))\n",
    "    \n",
    "    # plot clonal marker comparison\n",
    "    prfp = CloneComparison(data, type1, type2, basis='r', label=label)\n",
    "    prfp.plot(ax=ax0, ylabel='Clonal marker (a.u.)', cut=1, **kwargs)\n",
    "    ax0.set_ylim(-0.1, 1.)\n",
    "    #ax0.set_yticks(np.arange(0, 2.5+.1, .5))\n",
    "    \n",
    "    # plot PntGFP comparison\n",
    "    pgfp = CloneComparison(data, type1, type2, basis='g', label=label)\n",
    "    pgfp.plot(ax=ax1, ylabel='GFP (a.u.)', cut=1, **kwargs)\n",
    "    ax1.set_ylim(-0.1, 0.6)\n",
    "    #ax1.set_yticks(np.arange(0, 1.2+.1, .2))\n",
    "    \n",
    "    # plot PntGFP comparison\n",
    "    pgfp = CloneComparison(data, type1, type2, basis='gc', label=label)\n",
    "    pgfp.plot(ax=ax2, ylabel='Corrrected GFP (a.u.)', cut=1, **kwargs)\n",
    "    ax2.set_ylim(-0.1, 0.6)\n",
    "    #ax2.set_yticks(np.arange(0, 1.2+.1, .2))\n",
    "    \n",
    "    # enforce tight layout\n",
    "    plt.tight_layout()\n",
    "    \n",
    "    return fig"
   ]
  },
  {
   "cell_type": "code",
   "execution_count": 6,
   "metadata": {},
   "outputs": [
    {
     "name": "stdout",
     "output_type": "stream",
     "text": [
      "M vs H: raw 9.084861613045744e-59\n",
      "M vs H: corrected 0.6893111384529345\n",
      "H vs W: raw 2.2410712887278555e-34\n",
      "H vs W: corrected 0.14805513535765494\n"
     ]
    }
   ],
   "source": [
    "metric = 'MW'\n",
    "#label = 'manual_label'\n",
    "label = 'genotype_imap'\n",
    "print('M vs H: raw', CloneComparison(data, 0, 1, basis='g', label=label).compare(metric))\n",
    "print('M vs H: corrected', CloneComparison(data, 0, 1, basis='gc', label=label).compare(metric))\n",
    "print('H vs W: raw', CloneComparison(data, 1, 2, basis='g', label=label).compare(metric))\n",
    "print('H vs W: corrected', CloneComparison(data, 1, 2, basis='gc', label=label).compare(metric))"
   ]
  },
  {
   "cell_type": "code",
   "execution_count": 8,
   "metadata": {},
   "outputs": [
    {
     "data": {
      "image/png": "[encoded data removed]",
      "text/plain": [
       "<Figure size 288x90 with 3 Axes>"
      ]
     },
     "metadata": {},
     "output_type": "display_data"
    },
    {
     "data": {
      "image/png": "[encoded data removed]",
      "text/plain": [
       "<Figure size 288x90 with 3 Axes>"
      ]
     },
     "metadata": {},
     "output_type": "display_data"
    }
   ],
   "source": [
    "colors = {\n",
    "    '0': plt.cm.Reds(1/3),\n",
    "    '1': plt.cm.Reds(2/3),\n",
    "    '2': plt.cm.Reds(3/3)}\n",
    "\n",
    "fig_mh = clones_figure(data, type1=0, type2=1, colors=colors)\n",
    "fig_hw = clones_figure(data, type1=1, type2=2, colors=colors)\n",
    "\n",
    "#savefig(fig_mh, 'corrected_mh')\n",
    "#savefig(fig_hw, 'corrected_hw')"
   ]
  },
  {
   "cell_type": "code",
   "execution_count": 44,
   "metadata": {},
   "outputs": [
    {
     "name": "stdout",
     "output_type": "stream",
     "text": [
      "M vs H: raw 2.1868953793821315e-73\n",
      "M vs H: corrected 0.4905189129232105\n",
      "H vs W: raw 1.1882411447035079e-12\n",
      "H vs W: corrected 0.0658200742448969\n"
     ]
    }
   ],
   "source": [
    "metric = 'MW'\n",
    "#label = 'manual_label'\n",
    "label = 'genotype_imap'\n",
    "print('M vs H: raw', CloneComparison(data, 0, 1, basis='g_normalized', label=label).compare(metric))\n",
    "print('M vs H: corrected', CloneComparison(data, 0, 1, basis='gc_normalized', label=label).compare(metric))\n",
    "print('H vs W: raw', CloneComparison(data, 1, 2, basis='g_normalized', label=label).compare(metric))\n",
    "print('H vs W: corrected', CloneComparison(data, 1, 2, basis='gc_normalized', label=label).compare(metric))"
   ]
  },
  {
   "cell_type": "code",
   "execution_count": null,
   "metadata": {},
   "outputs": [],
   "source": []
  },
  {
   "cell_type": "markdown",
   "metadata": {},
   "source": [
    "# Comparing all discs"
   ]
  },
  {
   "cell_type": "code",
   "execution_count": 77,
   "metadata": {},
   "outputs": [],
   "source": [
    "from copy import deepcopy\n",
    "import seaborn as sns\n",
    "import pandas as pd\n",
    "\n",
    "plt.rcParams['axes.labelsize'] = 7\n",
    "plt.rcParams['font.size'] = 6\n",
    "plt.rcParams['xtick.labelsize'] = 6\n",
    "plt.rcParams['ytick.labelsize'] = 6\n",
    "\n",
    "def compare(data, xvar='genotype_imap', ylabel='', **kwargs):\n",
    "    \n",
    "    df1 = deepcopy(data)\n",
    "    df2 = deepcopy(data)\n",
    "    df1['CORRECTED'] = False\n",
    "    df1['COMPARED'] = df1['g']\n",
    "    df2['CORRECTED'] = True\n",
    "    df2['COMPARED'] = df2['gc']\n",
    "    \n",
    "    fig, ax = plt.subplots(figsize=(1.25, 1.))\n",
    "    \n",
    "    sns.boxplot(ax=ax,\n",
    "        x=xvar,\n",
    "        y='COMPARED',\n",
    "        data=pd.concat((df1,df2)),\n",
    "        order=(0, 1, 2),\n",
    "        hue='CORRECTED',\n",
    "        hue_order=(False, True),\n",
    "        palette={False:'k', True:'r'},\n",
    "        notch=True,\n",
    "        width=0.7,\n",
    "        linewidth=0.5,\n",
    "        fliersize=0,\n",
    "        **kwargs)\n",
    "\n",
    "    # define labels and corresponding fill colors\n",
    "    labels = {0:'−/−', 1:'−/+', 2:'+/+'}\n",
    "    colors = {0:'k', 1:'k', 2:'k'}\n",
    "\n",
    "    # format axes\n",
    "    ax.grid(False)\n",
    "    ax.yaxis.set_ticks_position('left')\n",
    "    ax.xaxis.set_ticks_position('bottom')\n",
    "    _ = ax.spines['top'].set_visible(False)\n",
    "    _ = ax.spines['right'].set_visible(False)\n",
    "    ax.get_legend().remove()\n",
    "    ax.set_yticks([0., 0.1, 0.2, 0.3, 0.4, 0.5])\n",
    "\n",
    "    # format xticks\n",
    "    ticklabels = []\n",
    "    for i, label in enumerate(ax.get_xticklabels()):\n",
    "\n",
    "        # set violin/box color\n",
    "        color = colors[int(label.get_text())]\n",
    "        #ax.artists[i].set_facecolor(color)\n",
    "\n",
    "        # set tick label as genotype\n",
    "        label.set_text(labels[int(label.get_text())])\n",
    "        ticklabels.append(label)\n",
    "\n",
    "    # format xlabels\n",
    "    ax.set_xlabel('Clonal marker dosage')\n",
    "    ax.set_ylabel(ylabel)\n",
    "    _ = ax.set_xticklabels(ticklabels, ha='center')\n",
    "\n",
    "    return fig\n",
    "\n",
    "def compare_separate(data, xvar='genotype_imap', yvar='g', ylabel='', **kwargs):\n",
    "        \n",
    "    fig, ax = plt.subplots(figsize=(1.25, 1.))\n",
    "    \n",
    "    sns.violinplot(ax=ax,\n",
    "        x=xvar,\n",
    "        y=yvar,\n",
    "        data=data,\n",
    "        order=(0, 1, 2),\n",
    "        palette={0:'y', 1:'c', 2:'m'},\n",
    "        width=0.7,\n",
    "        linewidth=0.5,\n",
    "        fliersize=0,\n",
    "        cut=1.0,\n",
    "        **kwargs)\n",
    "\n",
    "    # define labels and corresponding fill colors\n",
    "    labels = {0:'−/−', 1:'−/+', 2:'+/+'}\n",
    "    colors = {0:'k', 1:'k', 2:'k'}\n",
    "\n",
    "    # format axes\n",
    "    ax.grid(False)\n",
    "    ax.yaxis.set_ticks_position('left')\n",
    "    ax.xaxis.set_ticks_position('bottom')\n",
    "    _ = ax.spines['top'].set_visible(False)\n",
    "    _ = ax.spines['right'].set_visible(False)\n",
    "    ax.set_yticks([0., 0.1, 0.2, 0.3, 0.4, 0.5])\n",
    "\n",
    "    # format xticks\n",
    "    ticklabels = []\n",
    "    for i, label in enumerate(ax.get_xticklabels()):\n",
    "\n",
    "        # set violin/box color\n",
    "        color = colors[int(label.get_text())]\n",
    "        #ax.artists[i].set_facecolor(color)\n",
    "\n",
    "        # set tick label as genotype\n",
    "        label.set_text(labels[int(label.get_text())])\n",
    "        ticklabels.append(label)\n",
    "\n",
    "    # format xlabels\n",
    "    ax.set_xlabel('Clonal marker dosage')\n",
    "    ax.set_ylabel(ylabel)\n",
    "    _ = ax.set_xticklabels(ticklabels, ha='center')\n",
    "\n",
    "    return fig"
   ]
  },
  {
   "cell_type": "code",
   "execution_count": 57,
   "metadata": {},
   "outputs": [],
   "source": [
    "keys = ['concurrent_0', 'concurrent_1', 'concurrent_2']\n",
    "data_concurrent = data[data[keys].all(axis=1)]"
   ]
  },
  {
   "cell_type": "code",
   "execution_count": 58,
   "metadata": {},
   "outputs": [
    {
     "name": "stdout",
     "output_type": "stream",
     "text": [
      "Measured values\n",
      "0x vs 1x: 0.00000\n",
      "1x vs 2x: 0.00000\n",
      "\n",
      "Corrected values\n",
      "0x vs 1x: 0.10771\n",
      "1x vs 2x: 0.05706\n"
     ]
    }
   ],
   "source": [
    "m = data_concurrent[data_concurrent.genotype_imap==0]\n",
    "h = data_concurrent[data_concurrent.genotype_imap==1]\n",
    "w = data_concurrent[data_concurrent.genotype_imap==2]\n",
    "\n",
    "evaluate_stats(m, h, w, test='MW')"
   ]
  },
  {
   "cell_type": "code",
   "execution_count": 55,
   "metadata": {},
   "outputs": [],
   "source": [
    "from scipy.stats import ks_2samp, mannwhitneyu\n",
    "\n",
    "def evaluate_stats(m, h, w, test='KS'):\n",
    "    \n",
    "    if test == 'KS':\n",
    "        test = lambda x, y: ks_2samp(x, y)\n",
    "    elif test == 'MW':\n",
    "        test = lambda x, y: mannwhitneyu(x, y)\n",
    "    else:\n",
    "        raise ValueError('Test not recognized.')\n",
    "\n",
    "    ks, p_mh = test(m.g, h.g) \n",
    "    ks, p_hw = test(h.g, w.g) \n",
    "    ks, p_mhc = test(m.gc, h.gc) \n",
    "    ks, p_hwc = test(h.gc, w.gc) \n",
    "\n",
    "    print('Measured values')\n",
    "    print('0x vs 1x: {:0.5f}'.format(p_mh))\n",
    "    print('1x vs 2x: {:0.5f}'.format(p_hw))\n",
    "\n",
    "    print('\\nCorrected values')\n",
    "    print('0x vs 1x: {:0.5f}'.format(p_mhc))\n",
    "    print('1x vs 2x: {:0.5f}'.format(p_hwc))"
   ]
  },
  {
   "cell_type": "code",
   "execution_count": null,
   "metadata": {},
   "outputs": [],
   "source": []
  },
  {
   "cell_type": "code",
   "execution_count": 65,
   "metadata": {},
   "outputs": [
    {
     "data": {
      "image/png": "[encoded data removed]",
      "text/plain": [
       "<Figure size 90x72 with 1 Axes>"
      ]
     },
     "metadata": {},
     "output_type": "display_data"
    }
   ],
   "source": [
    "fig = compare(data_concurrent, ylabel='GFP level')\n",
    "fig.axes[0].set_ylim(0, .55)\n",
    "\n",
    "#savefig(fig, 'correction_comparison')"
   ]
  },
  {
   "cell_type": "code",
   "execution_count": 83,
   "metadata": {},
   "outputs": [
    {
     "data": {
      "text/plain": [
       "(-0.05, 0.55)"
      ]
     },
     "execution_count": 83,
     "metadata": {},
     "output_type": "execute_result"
    },
    {
     "data": {
      "image/png": "[encoded data removed]",
      "text/plain": [
       "<Figure size 90x72 with 1 Axes>"
      ]
     },
     "metadata": {},
     "output_type": "display_data"
    },
    {
     "data": {
      "image/png": "[encoded data removed]",
      "text/plain": [
       "<Figure size 90x72 with 1 Axes>"
      ]
     },
     "metadata": {},
     "output_type": "display_data"
    }
   ],
   "source": [
    "fig = compare_separate(data_concurrent, yvar='g', ylabel='GFP level')\n",
    "fig.axes[0].set_ylim(-0.05, .55)\n",
    "\n",
    "fig = compare_separate(data_concurrent, yvar='gc', ylabel='GFP level')\n",
    "fig.axes[0].set_ylim(-0.05, .55)"
   ]
  },
  {
   "cell_type": "code",
   "execution_count": null,
   "metadata": {},
   "outputs": [],
   "source": []
  }
 ],
 "metadata": {
  "kernelspec": {
   "display_name": "clones",
   "language": "python",
   "name": "clones"
  },
  "language_info": {
   "codemirror_mode": {
    "name": "ipython",
    "version": 3
   },
   "file_extension": ".py",
   "mimetype": "text/x-python",
   "name": "python",
   "nbconvert_exporter": "python",
   "pygments_lexer": "ipython3",
   "version": "3.6.4"
  }
 },
 "nbformat": 4,
 "nbformat_minor": 2
}
