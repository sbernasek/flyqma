{
 "cells": [
  {
   "cell_type": "code",
   "execution_count": 1,
   "metadata": {},
   "outputs": [],
   "source": [
    "from os.path import join\n",
    "from time import time\n",
    "import numpy as np\n",
    "import matplotlib.pyplot as plt\n",
    "from clones.data.experiments import Experiment\n",
    "\n",
    "%matplotlib inline"
   ]
  },
  {
   "cell_type": "code",
   "execution_count": 2,
   "metadata": {},
   "outputs": [],
   "source": [
    "figsize = (2, 2)\n",
    "savedir = '../../../figures/graphics/real_data/'\n",
    "savefig = lambda fig, name: fig.savefig(join(savedir, '{:s}.pdf'.format(name)), dpi=400, \n",
    "                                        rasterized=True, transparent=True, bbox_inches='tight')"
   ]
  },
  {
   "cell_type": "markdown",
   "metadata": {},
   "source": [
    "### Load experiment"
   ]
  },
  {
   "cell_type": "code",
   "execution_count": 3,
   "metadata": {},
   "outputs": [],
   "source": [
    "# load experiment\n",
    "experiment = Experiment('../../../data/drosophila/')"
   ]
  },
  {
   "cell_type": "markdown",
   "metadata": {},
   "source": [
    "### Load annotated data\n",
    "\n",
    "Automatically assigned labels are stored under the `genotype` key while manual labels are stored under a `manual_label` key."
   ]
  },
  {
   "cell_type": "code",
   "execution_count": 4,
   "metadata": {},
   "outputs": [],
   "source": [
    "data = experiment.aggregate_measurements(selected_only=True, exclude_boundary=True)\n",
    "data = data[~data.manual_label.isna()]"
   ]
  },
  {
   "cell_type": "markdown",
   "metadata": {},
   "source": [
    "### Compare fluorescence levels between clones"
   ]
  },
  {
   "cell_type": "code",
   "execution_count": 5,
   "metadata": {},
   "outputs": [],
   "source": [
    "from clones.analysis.statistics import CloneComparison\n",
    "\n",
    "def clones_figure(data, type1=0, type2=1, label='genotype', **kwargs):\n",
    "    \n",
    "    # create figure/axes\n",
    "    fig, (ax0, ax1, ax2) = plt.subplots(ncols=3, figsize=(4, 1.25))\n",
    "    \n",
    "    # plot clonal marker comparison\n",
    "    prfp = CloneComparison(data, type1, type2, basis='r', label=label)\n",
    "    prfp.plot(ax=ax0, ylabel='Clonal marker (a.u.)', cut=1, **kwargs)\n",
    "    ax0.set_ylim(-0.1, 1.)\n",
    "    #ax0.set_yticks(np.arange(0, 2.5+.1, .5))\n",
    "    \n",
    "    # plot PntGFP comparison\n",
    "    pgfp = CloneComparison(data, type1, type2, basis='g', label=label)\n",
    "    pgfp.plot(ax=ax1, ylabel='GFP (a.u.)', cut=1, **kwargs)\n",
    "    ax1.set_ylim(-0.1, 0.6)\n",
    "    #ax1.set_yticks(np.arange(0, 1.2+.1, .2))\n",
    "    \n",
    "    # plot PntGFP comparison\n",
    "    pgfp = CloneComparison(data, type1, type2, basis='gc', label=label)\n",
    "    pgfp.plot(ax=ax2, ylabel='Corrrected GFP (a.u.)', cut=1, **kwargs)\n",
    "    ax2.set_ylim(-0.1, 0.6)\n",
    "    #ax2.set_yticks(np.arange(0, 1.2+.1, .2))\n",
    "    \n",
    "    # enforce tight layout\n",
    "    plt.tight_layout()\n",
    "    \n",
    "    return fig"
   ]
  },
  {
   "cell_type": "code",
   "execution_count": 6,
   "metadata": {},
   "outputs": [
    {
     "name": "stdout",
     "output_type": "stream",
     "text": [
      "M vs H: raw 9.084861613045744e-59\n",
      "M vs H: corrected 0.6893111384529345\n",
      "H vs W: raw 2.2410712887278555e-34\n",
      "H vs W: corrected 0.14805513535765494\n"
     ]
    }
   ],
   "source": [
    "metric = 'MW'\n",
    "#label = 'manual_label'\n",
    "label = 'genotype_imap'\n",
    "print('M vs H: raw', CloneComparison(data, 0, 1, basis='g', label=label).compare(metric))\n",
    "print('M vs H: corrected', CloneComparison(data, 0, 1, basis='gc', label=label).compare(metric))\n",
    "print('H vs W: raw', CloneComparison(data, 1, 2, basis='g', label=label).compare(metric))\n",
    "print('H vs W: corrected', CloneComparison(data, 1, 2, basis='gc', label=label).compare(metric))"
   ]
  },
  {
   "cell_type": "code",
   "execution_count": 8,
   "metadata": {},
   "outputs": [
    {
     "data": {
      "image/png": "[encoded data removed]",
      "text/plain": [
       "<Figure size 288x90 with 3 Axes>"
      ]
     },
     "metadata": {},
     "output_type": "display_data"
    },
    {
     "data": {
      "image/png": "[encoded data removed]",
      "text/plain": [
       "<Figure size 288x90 with 3 Axes>"
      ]
     },
     "metadata": {},
     "output_type": "display_data"
    }
   ],
   "source": [
    "colors = {\n",
    "    '0': plt.cm.Reds(1/3),\n",
    "    '1': plt.cm.Reds(2/3),\n",
    "    '2': plt.cm.Reds(3/3)}\n",
    "\n",
    "fig_mh = clones_figure(data, type1=0, type2=1, colors=colors)\n",
    "fig_hw = clones_figure(data, type1=1, type2=2, colors=colors)\n",
    "\n",
    "#savefig(fig_mh, 'corrected_mh')\n",
    "#savefig(fig_hw, 'corrected_hw')"
   ]
  },
  {
   "cell_type": "code",
   "execution_count": 44,
   "metadata": {},
   "outputs": [
    {
     "name": "stdout",
     "output_type": "stream",
     "text": [
      "M vs H: raw 2.1868953793821315e-73\n",
      "M vs H: corrected 0.4905189129232105\n",
      "H vs W: raw 1.1882411447035079e-12\n",
      "H vs W: corrected 0.0658200742448969\n"
     ]
    }
   ],
   "source": [
    "metric = 'MW'\n",
    "#label = 'manual_label'\n",
    "label = 'genotype_imap'\n",
    "print('M vs H: raw', CloneComparison(data, 0, 1, basis='g_normalized', label=label).compare(metric))\n",
    "print('M vs H: corrected', CloneComparison(data, 0, 1, basis='gc_normalized', label=label).compare(metric))\n",
    "print('H vs W: raw', CloneComparison(data, 1, 2, basis='g_normalized', label=label).compare(metric))\n",
    "print('H vs W: corrected', CloneComparison(data, 1, 2, basis='gc_normalized', label=label).compare(metric))"
   ]
  },
  {
   "cell_type": "code",
   "execution_count": null,
   "metadata": {},
   "outputs": [],
   "source": []
  }
 ],
 "metadata": {
  "kernelspec": {
   "display_name": "clones",
   "language": "python",
   "name": "clones"
  },
  "language_info": {
   "codemirror_mode": {
    "name": "ipython",
    "version": 3
   },
   "file_extension": ".py",
   "mimetype": "text/x-python",
   "name": "python",
   "nbconvert_exporter": "python",
   "pygments_lexer": "ipython3",
   "version": "3.6.4"
  }
 },
 "nbformat": 4,
 "nbformat_minor": 2
}
