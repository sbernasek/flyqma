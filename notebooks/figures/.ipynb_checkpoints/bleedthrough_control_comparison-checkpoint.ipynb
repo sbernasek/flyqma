{
 "cells": [
  {
   "cell_type": "code",
   "execution_count": 12,
   "metadata": {},
   "outputs": [],
   "source": [
    "import numpy as np\n",
    "import matplotlib.pyplot as plt\n",
    "%matplotlib inline"
   ]
  },
  {
   "cell_type": "code",
   "execution_count": 13,
   "metadata": {},
   "outputs": [],
   "source": [
    "from clones.data.experiments import Experiment"
   ]
  },
  {
   "cell_type": "code",
   "execution_count": null,
   "metadata": {},
   "outputs": [],
   "source": []
  },
  {
   "cell_type": "markdown",
   "metadata": {},
   "source": [
    "# Load experimental data"
   ]
  },
  {
   "cell_type": "code",
   "execution_count": 14,
   "metadata": {},
   "outputs": [],
   "source": []
  },
  {
   "cell_type": "code",
   "execution_count": 10,
   "metadata": {},
   "outputs": [],
   "source": [
    "eye_discs_path = '../../../data/drosophila/'\n",
    "experimental_data = Experiment(eye_discs_path)\n",
    "\n",
    "# define measurement inclusion criteria\n",
    "options = dict(selected_only=True, exclude_boundary=True)\n",
    "\n",
    "# aggregate measurements\n",
    "measurements = experimental_data.aggregate_measurements(**options)"
   ]
  },
  {
   "cell_type": "code",
   "execution_count": null,
   "metadata": {},
   "outputs": [],
   "source": []
  },
  {
   "cell_type": "code",
   "execution_count": null,
   "metadata": {},
   "outputs": [],
   "source": []
  },
  {
   "cell_type": "code",
   "execution_count": null,
   "metadata": {},
   "outputs": [],
   "source": []
  },
  {
   "cell_type": "code",
   "execution_count": null,
   "metadata": {},
   "outputs": [],
   "source": []
  },
  {
   "cell_type": "code",
   "execution_count": null,
   "metadata": {},
   "outputs": [],
   "source": []
  },
  {
   "cell_type": "code",
   "execution_count": null,
   "metadata": {},
   "outputs": [],
   "source": [
    "# define groups (dictionary of {cluster_id: group_id} pairs)\n",
    "groups = {0:0, 1:1, 2:1, 3:1, 4:2, 5:2} # e.g. 6 clusters --> 3 groups\n",
    "\n",
    "# fit classifier\n",
    "classifier = CellClassifier.from_measurements(measurements, classify_on='r', groups=groups, log=False)\n",
    "\n",
    "# save classifier\n",
    "#classifier.save(stack.path, image=True)"
   ]
  },
  {
   "cell_type": "code",
   "execution_count": null,
   "metadata": {},
   "outputs": [],
   "source": []
  },
  {
   "cell_type": "code",
   "execution_count": null,
   "metadata": {},
   "outputs": [],
   "source": []
  },
  {
   "cell_type": "markdown",
   "metadata": {},
   "source": []
  },
  {
   "cell_type": "markdown",
   "metadata": {},
   "source": [
    "## Statistical comparison between clones"
   ]
  },
  {
   "cell_type": "code",
   "execution_count": null,
   "metadata": {},
   "outputs": [],
   "source": [
    "from clones.analysis.statistics import SummaryStatistics"
   ]
  },
  {
   "cell_type": "code",
   "execution_count": null,
   "metadata": {},
   "outputs": [],
   "source": [
    "# evaluate pvalues for (M vs H) and (H vs W) comparisons under each condition\n",
    "_ = SummaryStatistics(control, perturbation, basis='gc_normalized')"
   ]
  },
  {
   "cell_type": "markdown",
   "metadata": {},
   "source": [
    "# Figure 4 H"
   ]
  },
  {
   "cell_type": "code",
   "execution_count": null,
   "metadata": {},
   "outputs": [],
   "source": [
    "from clones.analysis.statistics import CloneComparison\n",
    "import matplotlib.pyplot as plt\n",
    "import numpy as np\n",
    "\n",
    "def clones_figure(data):\n",
    "    \n",
    "    # create figure/axes\n",
    "    fig, (ax0, ax1) = plt.subplots(ncols=2, figsize=(3, 1.5))\n",
    "    \n",
    "    # plot clonal marker comparison\n",
    "    prfp = CloneComparison(data, 'm', 'h', basis='r_normalized')\n",
    "    prfp.plot(ax=ax0, ylabel='UbiRFP (a.u.)', cut=1)\n",
    "    ax0.set_ylim(-0.1, 2.5)\n",
    "    ax0.set_yticks(np.arange(0, 2.5+.1, .5))\n",
    "    \n",
    "    # plot PntGFP comparison\n",
    "    pgfp = CloneComparison(data, 'm', 'h', basis='gc_normalized')\n",
    "    pgfp.plot(ax=ax1, ylabel='PntGFP (a.u.)', cut=1)\n",
    "    ax1.set_ylim(-0.1, 1.2)\n",
    "    ax1.set_yticks(np.arange(0, 1.2+.1, .2))\n",
    "    \n",
    "    # enforce tight layout\n",
    "    plt.tight_layout()\n",
    "    \n",
    "    return fig\n",
    "\n",
    "%matplotlib inline"
   ]
  },
  {
   "cell_type": "code",
   "execution_count": null,
   "metadata": {},
   "outputs": [],
   "source": [
    "# compare bleedthrough control clones\n",
    "control_fig = clones_figure(control)\n",
    "\n",
    "# compare yan mutant clones\n",
    "perturbation_fig = clones_figure(perturbation)"
   ]
  }
 ],
 "metadata": {
  "kernelspec": {
   "display_name": "clones",
   "language": "python",
   "name": "clones"
  },
  "language_info": {
   "codemirror_mode": {
    "name": "ipython",
    "version": 3
   },
   "file_extension": ".py",
   "mimetype": "text/x-python",
   "name": "python",
   "nbconvert_exporter": "python",
   "pygments_lexer": "ipython3",
   "version": "3.6.4"
  }
 },
 "nbformat": 4,
 "nbformat_minor": 1
}
