{
 "cells": [
  {
   "cell_type": "code",
   "execution_count": 1,
   "metadata": {},
   "outputs": [],
   "source": [
    "from clones.data.experiments import Experiment\n",
    "from clones.selection.gui import GUI\n",
    "\n",
    "# note: the GUI is only compatible with matplotlib notebook mode when using jupyter\n",
    "# could also launch GUI from the command line in a separate window\n",
    "%matplotlib notebook"
   ]
  },
  {
   "cell_type": "markdown",
   "metadata": {},
   "source": [
    "# Load stack"
   ]
  },
  {
   "cell_type": "code",
   "execution_count": 11,
   "metadata": {},
   "outputs": [],
   "source": [
    "experiment_path = '../data/clones/yanE833'\n",
    "\n",
    "# load experiment\n",
    "experiment = Experiment(experiment_path)\n",
    "\n",
    "# load stack\n",
    "stack_id = 42\n",
    "stack = experiment.load_stack(stack_id, full=True)"
   ]
  },
  {
   "cell_type": "markdown",
   "metadata": {},
   "source": [
    "# Run Selection GUI"
   ]
  },
  {
   "cell_type": "markdown",
   "metadata": {},
   "source": [
    "### Click on an image to add a point.\n",
    "\n",
    "### Recognized key commands:\n",
    "> **X**: disconnect and exit GUI\n",
    "\n",
    "> **S**: save selection to file\n",
    "\n",
    "> **Z**: remove last added point\n",
    "\n",
    "> **N**: mark layer as neurons+cones and exclude\n",
    "\n",
    "> **D**: mark layer as duplicate and exclude"
   ]
  },
  {
   "cell_type": "code",
   "execution_count": null,
   "metadata": {},
   "outputs": [],
   "source": [
    "selection_gui = GUI(stack)\n",
    "\n",
    "# connect event handling\n",
    "selection_gui.connect() "
   ]
  },
  {
   "cell_type": "markdown",
   "metadata": {},
   "source": [
    "# Load/Modify an existing selection"
   ]
  },
  {
   "cell_type": "code",
   "execution_count": null,
   "metadata": {},
   "outputs": [],
   "source": [
    "selection_gui = GUI.load(stack)\n",
    "selection_gui.connect()"
   ]
  }
 ],
 "metadata": {
  "kernelspec": {
   "display_name": "clones",
   "language": "python",
   "name": "clones"
  },
  "language_info": {
   "codemirror_mode": {
    "name": "ipython",
    "version": 3
   },
   "file_extension": ".py",
   "mimetype": "text/x-python",
   "name": "python",
   "nbconvert_exporter": "python",
   "pygments_lexer": "ipython3",
   "version": "3.6.4"
  }
 },
 "nbformat": 4,
 "nbformat_minor": 2
}
