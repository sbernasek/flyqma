{
 "cells": [
  {
   "cell_type": "code",
   "execution_count": 1,
   "metadata": {},
   "outputs": [],
   "source": [
    "import sys, os\n",
    "import gc\n",
    "import glob\n",
    "from time import sleep\n",
    "from time import time\n",
    "if '../' not in sys.path:\n",
    "    sys.path.insert(0, '../')\n",
    "\n",
    "from modules.stacks import ImageStack\n",
    "    \n",
    "import matplotlib.pyplot as plt\n",
    "import numpy as np\n",
    "\n",
    "%reload_ext autoreload\n",
    "%autoreload 2\n",
    "%matplotlib inline"
   ]
  },
  {
   "cell_type": "code",
   "execution_count": 3,
   "metadata": {},
   "outputs": [],
   "source": [
    "control_slices = '/Volumes/bernasek_t5/pnt_manuscript/microscopy/yan_clones/control/slices/'\n",
    "mutant_slices = '/Volumes/bernasek_t5/pnt_manuscript/microscopy/yan_clones/perturbation/slices/'"
   ]
  },
  {
   "cell_type": "code",
   "execution_count": null,
   "metadata": {},
   "outputs": [],
   "source": []
  },
  {
   "cell_type": "code",
   "execution_count": 11,
   "metadata": {},
   "outputs": [],
   "source": [
    "def format_name(path):\n",
    "    base, old_fname = path.rsplit('/', maxsplit=1)\n",
    "    fname = old_fname.lstrip('control_perturbation')\n",
    "    new_path = os.path.join(base, fname)\n",
    "    return new_path"
   ]
  },
  {
   "cell_type": "code",
   "execution_count": 12,
   "metadata": {},
   "outputs": [],
   "source": [
    "for genotype in os.listdir(control_slices)[::-1]:\n",
    "    experiment_path = os.path.join(control_slices, genotype)\n",
    "    stack_paths = glob.glob(os.path.join(experiment_path, 'control*[0-9].tif'))        \n",
    "    for stack_path in stack_paths:\n",
    "        os.rename(stack_path, format_name(stack_path))\n",
    "        \n",
    "for genotype in os.listdir(mutant_slices):\n",
    "    experiment_path = os.path.join(mutant_slices, genotype)\n",
    "    stack_paths = glob.glob(os.path.join(experiment_path, 'perturbation*[0-9].tif'))\n",
    "    for stack_path in stack_paths:\n",
    "        os.rename(stack_path, format_name(stack_path))"
   ]
  },
  {
   "cell_type": "code",
   "execution_count": null,
   "metadata": {},
   "outputs": [],
   "source": []
  },
  {
   "cell_type": "code",
   "execution_count": null,
   "metadata": {},
   "outputs": [],
   "source": []
  },
  {
   "cell_type": "code",
   "execution_count": null,
   "metadata": {},
   "outputs": [],
   "source": []
  },
  {
   "cell_type": "code",
   "execution_count": null,
   "metadata": {},
   "outputs": [],
   "source": []
  },
  {
   "cell_type": "code",
   "execution_count": null,
   "metadata": {},
   "outputs": [],
   "source": []
  },
  {
   "cell_type": "code",
   "execution_count": null,
   "metadata": {},
   "outputs": [],
   "source": []
  }
 ],
 "metadata": {
  "kernelspec": {
   "display_name": "clones",
   "language": "python",
   "name": "clones"
  },
  "language_info": {
   "codemirror_mode": {
    "name": "ipython",
    "version": 3
   },
   "file_extension": ".py",
   "mimetype": "text/x-python",
   "name": "python",
   "nbconvert_exporter": "python",
   "pygments_lexer": "ipython3",
   "version": "3.6.4"
  }
 },
 "nbformat": 4,
 "nbformat_minor": 2
}
