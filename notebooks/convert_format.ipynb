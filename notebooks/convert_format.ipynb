{
 "cells": [
  {
   "cell_type": "code",
   "execution_count": 1,
   "metadata": {},
   "outputs": [],
   "source": [
    "from growth.sweep.sweep import Sweep"
   ]
  },
  {
   "cell_type": "code",
   "execution_count": 45,
   "metadata": {},
   "outputs": [
    {
     "name": "stdout",
     "output_type": "stream",
     "text": [
      "\u001b[34mSweep_181128_214024\u001b[m\u001b[m/ \u001b[34mnew\u001b[m\u001b[m/                 \u001b[34mtwolevel\u001b[m\u001b[m/\r\n",
      "build_sweep.py       \u001b[34msingle_replicate\u001b[m\u001b[m/\r\n"
     ]
    }
   ],
   "source": [
    "ls ../synthetic/"
   ]
  },
  {
   "cell_type": "code",
   "execution_count": 48,
   "metadata": {},
   "outputs": [],
   "source": [
    "p = '../synthetic/Sweep_181128_214024'"
   ]
  },
  {
   "cell_type": "code",
   "execution_count": 49,
   "metadata": {},
   "outputs": [],
   "source": [
    "sweep = Sweep.load(p)"
   ]
  },
  {
   "cell_type": "code",
   "execution_count": 50,
   "metadata": {},
   "outputs": [],
   "source": [
    "update(sweep)\n",
    "save(sweep)"
   ]
  },
  {
   "cell_type": "code",
   "execution_count": 39,
   "metadata": {},
   "outputs": [],
   "source": [
    "import dill as pickle\n",
    "from os.path import join\n",
    "\n",
    "def update(self):\n",
    "\n",
    "    # set population size\n",
    "    self.min_population = self.population\n",
    "    self.num_replicates = self.batch_size\n",
    "\n",
    "    # define recombination periods\n",
    "    self.duration = self.recombination_duration\n",
    "\n",
    "    self.first_start = self.parameters[:, 0].min()\n",
    "    self.last_start = self.parameters[:, 0].max()\n",
    "    self.num_periods = np.unique(self.parameters[:, 0]).size\n",
    "\n",
    "    # define recombination rates\n",
    "    self.min_rate = self.parameters[:, 1].min()\n",
    "    self.max_rate = self.parameters[:, 1].max()\n",
    "    self.num_rates = np.unique(self.parameters[:, 1]).size\n",
    "    \n",
    "def save(self):\n",
    "    \n",
    "    # save serialized job\n",
    "    with open(join(self.path, 'job.pkl'), 'wb') as file:\n",
    "        pickle.dump(self, file, protocol=-1)"
   ]
  }
 ],
 "metadata": {
  "kernelspec": {
   "display_name": "clones",
   "language": "python",
   "name": "clones"
  },
  "language_info": {
   "codemirror_mode": {
    "name": "ipython",
    "version": 3
   },
   "file_extension": ".py",
   "mimetype": "text/x-python",
   "name": "python",
   "nbconvert_exporter": "python",
   "pygments_lexer": "ipython3",
   "version": "3.6.4"
  }
 },
 "nbformat": 4,
 "nbformat_minor": 2
}
