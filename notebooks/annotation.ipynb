{
 "cells": [
  {
   "cell_type": "code",
   "execution_count": 22,
   "metadata": {},
   "outputs": [],
   "source": [
    "import sys, os\n",
    "from glob import glob\n",
    "p = '../'\n",
    "if p not in sys.path:\n",
    "    sys.path.insert(0, p)"
   ]
  },
  {
   "cell_type": "code",
   "execution_count": 23,
   "metadata": {},
   "outputs": [],
   "source": [
    "from clones.data.experiments import Experiment\n",
    "from clones.annotation.classifiers import CellClassifier\n",
    "\n",
    "%reload_ext autoreload\n",
    "%autoreload 2\n",
    "%matplotlib inline"
   ]
  },
  {
   "cell_type": "markdown",
   "metadata": {},
   "source": [
    "# Load stack and aggregate measurements"
   ]
  },
  {
   "cell_type": "code",
   "execution_count": 25,
   "metadata": {},
   "outputs": [],
   "source": [
    "experiment_path = '../data/clones/yanE833'\n",
    "\n",
    "# load experiment\n",
    "experiment = Experiment(experiment_path)\n",
    "\n",
    "# initialize stack\n",
    "stack_id = 0\n",
    "stack = experiment.load_stack(stack_id, full=True)\n",
    "\n",
    "# aggregate measurement data\n",
    "measurements = stack.aggregate_measurements(raw=False)"
   ]
  },
  {
   "cell_type": "markdown",
   "metadata": {},
   "source": [
    "# Fit cell classifier"
   ]
  },
  {
   "cell_type": "code",
   "execution_count": 26,
   "metadata": {},
   "outputs": [],
   "source": [
    "# define groups (dictionary of {cluster_id: group_id} pairs)\n",
    "groups = {0:0, 1:1, 2:1, 3:1, 4:2, 5:2} # e.g. 6 clusters --> 3 groups\n",
    "\n",
    "# fit classifier\n",
    "classifier = CellClassifier.from_measurements(measurements, classify_on='r', groups=groups, log=False)\n",
    "\n",
    "# save classifier\n",
    "#classifier.save(stack.path, image=True)"
   ]
  },
  {
   "cell_type": "markdown",
   "metadata": {},
   "source": [
    "# Visualize classifier"
   ]
  },
  {
   "cell_type": "code",
   "execution_count": 27,
   "metadata": {},
   "outputs": [
    {
     "data": {
      "image/png": "[encoded data removed]",
      "text/plain": [
       "<Figure size 216x144 with 1 Axes>"
      ]
     },
     "metadata": {},
     "output_type": "display_data"
    }
   ],
   "source": [
    "classifier.show()"
   ]
  },
  {
   "cell_type": "code",
   "execution_count": null,
   "metadata": {},
   "outputs": [],
   "source": []
  }
 ],
 "metadata": {
  "kernelspec": {
   "display_name": "clones",
   "language": "python",
   "name": "clones"
  },
  "language_info": {
   "codemirror_mode": {
    "name": "ipython",
    "version": 3
   },
   "file_extension": ".py",
   "mimetype": "text/x-python",
   "name": "python",
   "nbconvert_exporter": "python",
   "pygments_lexer": "ipython3",
   "version": "3.6.4"
  }
 },
 "nbformat": 4,
 "nbformat_minor": 2
}
