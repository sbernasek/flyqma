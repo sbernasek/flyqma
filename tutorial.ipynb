{
 "cells": [
  {
   "cell_type": "markdown",
   "metadata": {},
   "source": [
    "# Fly-QMA Tutorial\n",
    "\n",
    "This notebook is designed to walk the user through some of the basic functionalities offered by Fly-QMA. For more detailed explanations of all available functionalities please refer to the Fly-QMA documentation.\n",
    "\n",
    "Throughout this tutorial we'll use an example dataset; a single 3D confocal image stack containing three fluorescence reporter channels:\n",
    "\n",
    "- Channel 0: DAPI nuclear stain\n",
    "- Channel 1: HisRFP clonal marker\n",
    "- Channel 2: PntGFP control reporter\n",
    "\n",
    "Note that the control reporter should be expressed equally within a strip of cells near the morphogenetic furrow, but due to fluorescence bleedthrough from the clonal marker it shows variegated expression. We will correct for that later in the tutorial."
   ]
  },
  {
   "cell_type": "markdown",
   "metadata": {},
   "source": [
    "To get started, let's import a handful of settings and packages to help out with some basic operations and visualization."
   ]
  },
  {
   "cell_type": "code",
   "execution_count": null,
   "metadata": {},
   "outputs": [],
   "source": [
    "from os.path import join\n",
    "import numpy as np\n",
    "from flyqma.visualization.settings import *\n",
    "import matplotlib.pyplot as plt\n",
    "%matplotlib inline"
   ]
  },
  {
   "cell_type": "markdown",
   "metadata": {},
   "source": [
    "# Load raw microscopy data\n",
    "\n",
    "To load our image stack, we need to define a path to an otherwise empty directory containing a multi-channel tif file."
   ]
  },
  {
   "cell_type": "code",
   "execution_count": null,
   "metadata": {},
   "outputs": [],
   "source": [
    "stack_path = '../data/replication_data/tutorial/stack'"
   ]
  },
  {
   "cell_type": "markdown",
   "metadata": {},
   "source": [
    "We may then instantiate a ```Stack``` object. This instance represents the entire 3D image stack. To limit unnecessary memory usage, the stack instance does not load the actual image data unless we explicitly tell it to using the ```load_image``` method. Note that we must correctly define the bit depth upon instantiation, e.g. whether our tif uses an 8-, 12-, or 16-bit container."
   ]
  },
  {
   "cell_type": "code",
   "execution_count": null,
   "metadata": {},
   "outputs": [],
   "source": [
    "from flyqma import Stack\n",
    "\n",
    "stack = Stack(stack_path, bit_depth=12)\n",
    "stack.load_image()"
   ]
  },
  {
   "cell_type": "markdown",
   "metadata": {},
   "source": [
    "# Visualize layers within an image stack"
   ]
  },
  {
   "cell_type": "markdown",
   "metadata": {},
   "source": [
    "At this point we can readily select individual layers, either using the ```load_layer``` method or simply by indexing the ```Stack``` instance. Both of these operations return a ```Layer``` instance, which represents an individual layer within the image stack. The former is more verbose but offers a bit more functionality, such as a ```use_cache=True``` option that loads saved measurements directly from a file rather than re-processing (annotation, bleedthrough correction, etc.) them as they are loaded."
   ]
  },
  {
   "cell_type": "code",
   "execution_count": null,
   "metadata": {},
   "outputs": [],
   "source": [
    "layer_id = 0\n",
    "layer = stack[layer_id]\n",
    "\n",
    "# alternatively, with a bit more functionality\n",
    "layer = stack.load_layer(layer_id)"
   ]
  },
  {
   "cell_type": "markdown",
   "metadata": {},
   "source": [
    "We can visualize a layer using the ```Layer.show``` method. See the documentation for details on all the various options. "
   ]
  },
  {
   "cell_type": "code",
   "execution_count": null,
   "metadata": {},
   "outputs": [],
   "source": [
    "_ = layer.show(figsize=(8, 8))"
   ]
  },
  {
   "cell_type": "markdown",
   "metadata": {},
   "source": [
    "We may also visualize individual fluorescence channels within each layer by using the ```Layer.get_channel``` method, which returns an ```ImageScalar``` instance representing the individual channel. This instance provides all the same visualization options as it's parent multichannel layer."
   ]
  },
  {
   "cell_type": "code",
   "execution_count": null,
   "metadata": {},
   "outputs": [],
   "source": [
    "channel_id = 0\n",
    "dapi = layer.get_channel(channel_id)\n",
    "\n",
    "# visualize the DAPI stain\n",
    "_ = dapi.show(figsize=(8, 8))"
   ]
  },
  {
   "cell_type": "markdown",
   "metadata": {},
   "source": [
    "# Segment each layer to identify cell nuclei"
   ]
  },
  {
   "cell_type": "markdown",
   "metadata": {},
   "source": [
    "We can now segment each layer in the image stack. We can do this on a layer-by-layer basis using the ```Layer.segment``` method, or just use the ```Stack.segment``` method to perform the segmentation for all layers in the stack.\n",
    "\n",
    "Either way, we need to define which channel represents the nuclear stain, which in this case is \"Channel 0\" or DAPI. The segmentation algorithm used relies upon several seed detection strategies followed by a watershed segmentation. Parameters for each of these operations may be supplied as keyword arguments; see the Fly-QMA documentation for further details."
   ]
  },
  {
   "cell_type": "code",
   "execution_count": null,
   "metadata": {},
   "outputs": [],
   "source": [
    "segmented_channel_id = 0\n",
    "\n",
    "stack.segment(channel=segmented_channel_id)"
   ]
  },
  {
   "cell_type": "markdown",
   "metadata": {},
   "source": [
    "Once the segmentation is complete, we can visualize the identified contours in the same manner as before. The ```segments``` argument determines whether or not individual contours are visualized."
   ]
  },
  {
   "cell_type": "code",
   "execution_count": null,
   "metadata": {},
   "outputs": [],
   "source": [
    "image = stack[layer_id].get_channel(segmented_channel_id)\n",
    "\n",
    "_ = image.show(segments=True, figsize=(8, 8))"
   ]
  },
  {
   "cell_type": "markdown",
   "metadata": {},
   "source": [
    "# Measure nuclear fluorescence intensities"
   ]
  },
  {
   "cell_type": "markdown",
   "metadata": {},
   "source": [
    "Following segmentation, we can aggregate the resultant fluorescence measurements from all layers using the ```Stack.aggregate_measurements``` method. The measurements are returned in a pandas dataframe. "
   ]
  },
  {
   "cell_type": "code",
   "execution_count": null,
   "metadata": {},
   "outputs": [],
   "source": [
    "measurements = stack.aggregate_measurements()"
   ]
  },
  {
   "cell_type": "markdown",
   "metadata": {},
   "source": [
    "# Save or Load an image stack"
   ]
  },
  {
   "cell_type": "markdown",
   "metadata": {},
   "source": [
    "We can always save our progress by using the ```Stack.save``` method to save the individual stack instance to file. This operation will store a number of new directories and files within the existing stack directory."
   ]
  },
  {
   "cell_type": "code",
   "execution_count": null,
   "metadata": {},
   "outputs": [],
   "source": [
    "stack.save()"
   ]
  },
  {
   "cell_type": "markdown",
   "metadata": {},
   "source": [
    "These items will be incorporated whenever we load the image stack from file using the same approach as before."
   ]
  },
  {
   "cell_type": "code",
   "execution_count": null,
   "metadata": {},
   "outputs": [],
   "source": [
    "from flyqma import Stack\n",
    "\n",
    "stack_path = '../data/replication_data/tutorial/stack'\n",
    "stack = Stack(stack_path)\n",
    "stack.load_image()"
   ]
  },
  {
   "cell_type": "markdown",
   "metadata": {},
   "source": [
    "# Save or load a collection of stacks\n",
    "\n",
    "Once initialized, we can instantiate a collection of related image stacks (an \"experiment\") using the ```Experiment``` object. This object allow us to access child ```Stack``` instances much in the same way we accessed layers within a given stack."
   ]
  },
  {
   "cell_type": "code",
   "execution_count": null,
   "metadata": {},
   "outputs": [],
   "source": [
    "from flyqma import Experiment\n",
    "\n",
    "experiment_path = '../data/replication_data/tutorial'\n",
    "experiment = Experiment(experiment_path)\n",
    "\n",
    "stack_id = 'stack'\n",
    "stack = experiment.load_stack(stack_id, full=True)"
   ]
  },
  {
   "cell_type": "markdown",
   "metadata": {},
   "source": [
    "# Define a region of interest"
   ]
  },
  {
   "cell_type": "markdown",
   "metadata": {},
   "source": [
    "Fly-QMA includes a simple tool for manually curating which regions of each layer are included in the analysis. The tool uses a simple GUI implemented via matplotlib. Use the GUI to manually draw a set of vertices enclosing the region of interest. Once running, the GUI offers both click and key commands:"
   ]
  },
  {
   "cell_type": "markdown",
   "metadata": {},
   "source": [
    "### Click on an image to add a vertex.\n",
    "\n",
    "### Key commands:\n",
    "\n",
    "> **T**: remove last added point\n",
    "\n",
    "> **Y**: remove all points in layer\n",
    "\n",
    "> **E**: exclude entire layer\n",
    "\n",
    "> **W**: save selection to file\n",
    "\n",
    "> **Q**: disconnect and exit GUI\n"
   ]
  },
  {
   "cell_type": "markdown",
   "metadata": {},
   "source": [
    "Launch the GUI, then use the ```GUI.connect``` method to activate event handling so that any clicks and keystrokes are recognized. Unfortunately the GUI also requires us to switch our visualization protocol using the ```%matplotlib notebook``` magic. The ```W``` key will automatically save any progress to file within the corresponding stack directory."
   ]
  },
  {
   "cell_type": "code",
   "execution_count": null,
   "metadata": {},
   "outputs": [],
   "source": [
    "from flyqma.selection import GUI\n",
    "%matplotlib notebook\n",
    "\n",
    "gui = GUI(stack)\n",
    "gui.connect()"
   ]
  },
  {
   "cell_type": "markdown",
   "metadata": {},
   "source": [
    "If a region of interest has previously been saved to file using the ```W``` key, we can re-load the same GUI using the ```GUI.load``` method. This also requires us to re-connect event handling."
   ]
  },
  {
   "cell_type": "code",
   "execution_count": null,
   "metadata": {},
   "outputs": [],
   "source": [
    "from flyqma.selection import GUI\n",
    "%matplotlib notebook\n",
    "\n",
    "gui = GUI.load(stack)\n",
    "gui.connect()"
   ]
  },
  {
   "cell_type": "markdown",
   "metadata": {},
   "source": [
    "Any saved regions of interest will now be automatically incorporated into the stack's fluorescence measurements whenever they are loaded from file. The boolean ```selected``` column of the measurement dataframe indicates whether or not each nucleus resides within a region of interest. The same attribute will automatically be used to curate which data are used for bleedthrough correction and annotation."
   ]
  },
  {
   "cell_type": "markdown",
   "metadata": {},
   "source": [
    "# Annotate clones within an image stack\n",
    "\n",
    "We are now ready to annotate the image stack using Fly-QMA's unsupervised clustering algorithm. Annotation is performed by training a bivariate Gaussian mixture model to recognize patches of cells with distinct patterns of clonal marker fluorescence. \n",
    "\n",
    "### Train annotator\n",
    "\n",
    "We can train the mixture model for an individual layer, or we can use the ```Stack.train_annotator``` method to train a model across all measurements within an entire image stack. See the Fly-QMA documentation for details regarding the various keyword arguments used to control the annotation procedure. We can use the ```save=True``` argument to indicate whether we would like the annotation results to be saved to file."
   ]
  },
  {
   "cell_type": "code",
   "execution_count": null,
   "metadata": {},
   "outputs": [],
   "source": [
    "attribute = 'ch2' # this is the clonal marker fluorescence channel in this example\n",
    "\n",
    "stack.train_annotator(attribute=attribute, save=True, max_num_components=8)"
   ]
  },
  {
   "cell_type": "markdown",
   "metadata": {},
   "source": [
    "Once saved, the corresponding annotation will be applied whenever the corresponding stack is loaded from file in the future, so long as the ```use_cache=True``` keyword argmument is used. Alternatively, we can explicitly apply the annotation to a given layer using the ```Layer.apply_annotation``` method."
   ]
  },
  {
   "cell_type": "code",
   "execution_count": null,
   "metadata": {},
   "outputs": [],
   "source": [
    "# instantiate layer (without process=True)\n",
    "layer_id = 0\n",
    "layer = stack[layer_id]\n",
    "\n",
    "# annotate layer\n",
    "layer.apply_annotation()"
   ]
  },
  {
   "cell_type": "markdown",
   "metadata": {},
   "source": [
    "### Inspect annotation results\n",
    "\n",
    "We can review the annotator performance by using the ```Layer.build_attribute_mask``` method to overlay the labels on a given layer's clonal marker image. The ```interior_only``` argument determines whether clone boundaries are masked for ease of visualization, and the ```selection_only``` argument determines whether nuclei outside the region of interest are neglected."
   ]
  },
  {
   "cell_type": "code",
   "execution_count": null,
   "metadata": {},
   "outputs": [],
   "source": [
    "import matplotlib.pyplot as plt\n",
    "%matplotlib inline\n",
    "\n",
    "channel_id = 2\n",
    "border_thickness = 1\n",
    "interior_only = True\n",
    "selection_only = False\n",
    "\n",
    "# visualize clonal marker fluorescence\n",
    "fig, axes = plt.subplots(ncols=2, figsize=(10, 5))\n",
    "for ax in axes:\n",
    "    fig = layer.get_channel(channel_id).show(segments=False, cmap='r', ax=ax)\n",
    "\n",
    "# overlay assigned genotypes\n",
    "layer.mark_boundaries(max_edges=border_thickness)\n",
    "mask = layer.build_attribute_mask('genotype', interior_only=interior_only, selection_only=selection_only)\n",
    "_ = axes[1].imshow(mask)"
   ]
  },
  {
   "cell_type": "markdown",
   "metadata": {},
   "source": [
    "# Correct for fluorescence bleed-through"
   ]
  },
  {
   "cell_type": "markdown",
   "metadata": {},
   "source": [
    "First we can visualize the control reporter expression as we did before."
   ]
  },
  {
   "cell_type": "code",
   "execution_count": null,
   "metadata": {},
   "outputs": [],
   "source": [
    "control_reporter_channel = 1\n",
    "control_reporter = layer.get_channel(channel=control_reporter_channel)\n",
    "fig = control_reporter.show(segments=False, cmap='g', figsize=(5, 5))"
   ]
  },
  {
   "cell_type": "markdown",
   "metadata": {},
   "source": [
    "Bleedthrough correction must be applied on a layer-by-layer basis because each layer contains a different background region. We can fit a linear model to a layer's background bleedthrough trend using the ```LayerCorrection``` object. The ```xvar``` argument specifies the fluorescence channel from with bleedthrough originates, while the ```yvar``` argument specifies which channel is subject to bleedthrough. See the Fly-QMA documentation for additional detail regarding the remaining keyword arguments that control background pixel extraction and bleedthrough coefficient determination."
   ]
  },
  {
   "cell_type": "code",
   "execution_count": null,
   "metadata": {},
   "outputs": [],
   "source": [
    "from flyqma.bleedthrough.correction import LayerCorrection\n",
    "\n",
    "# perform background correction\n",
    "correction = LayerCorrection(layer, xvar=2, yvar=1, niters=20)"
   ]
  },
  {
   "cell_type": "markdown",
   "metadata": {},
   "source": [
    "Once the model is fit, we can visualize the background determination using the ```LayerCorrection.show_background_extraction``` method. We can also visualize the bleedthrough model fit using the ```LayerCorrection.show_correction``` method."
   ]
  },
  {
   "cell_type": "code",
   "execution_count": null,
   "metadata": {},
   "outputs": [],
   "source": [
    "# visualize background extraction and model fit\n",
    "_ = correction.show_background_extraction(invert=True, figsize=(2, 2))\n",
    "_ = correction.show_correction(selected_only=False, figsize=(4, 1.25))"
   ]
  },
  {
   "cell_type": "markdown",
   "metadata": {},
   "source": [
    "Finally, if we save the bleedthrough model using the ```LayerCorrection.save``` method, the measurements will be automatically corrected whenever the layer is loaded from file in the future."
   ]
  },
  {
   "cell_type": "code",
   "execution_count": null,
   "metadata": {},
   "outputs": [],
   "source": [
    "correction.save()"
   ]
  },
  {
   "cell_type": "markdown",
   "metadata": {},
   "source": [
    "# Analyze the processed data\n",
    "\n",
    "Once each stack has been segmented, corrected, and annotated, we can go ahead and aggregate all of the processed measurements from a collection of related image stacks."
   ]
  },
  {
   "cell_type": "code",
   "execution_count": null,
   "metadata": {},
   "outputs": [],
   "source": [
    "from flyqma import Experiment\n",
    "\n",
    "experiment_path = '../data/replication_data/tutorial'\n",
    "experiment = Experiment(experiment_path)\n",
    "\n",
    "measurements = experiment.aggregate_measurements(selected_only=False, exclude_boundary=False)"
   ]
  },
  {
   "cell_type": "markdown",
   "metadata": {},
   "source": [
    "We can then use Fly-QMA's ```statistics.CloneComparison``` tool to evaluate whether fluorescence levels differ between clones. The ```basis``` keyword argument defines which channel is used in the comparison."
   ]
  },
  {
   "cell_type": "code",
   "execution_count": null,
   "metadata": {},
   "outputs": [],
   "source": [
    "from flyqma.analysis.statistics import CloneComparison\n",
    "\n",
    "label_a, label_b = 0, 1\n",
    "\n",
    "comparison = CloneComparison(measurements, label_a, label_b, basis='ch2', label='genotype')\n",
    "comparison.plot()\n",
    "\n",
    "# run statistical comparison\n",
    "pvalue = comparison.compare(test='MW')"
   ]
  }
 ],
 "metadata": {
  "kernelspec": {
   "display_name": "clones",
   "language": "python",
   "name": "clones"
  },
  "language_info": {
   "codemirror_mode": {
    "name": "ipython",
    "version": 3
   },
   "file_extension": ".py",
   "mimetype": "text/x-python",
   "name": "python",
   "nbconvert_exporter": "python",
   "pygments_lexer": "ipython3",
   "version": "3.6.4"
  }
 },
 "nbformat": 4,
 "nbformat_minor": 2
}
